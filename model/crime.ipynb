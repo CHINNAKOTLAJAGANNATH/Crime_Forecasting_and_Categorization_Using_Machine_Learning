{
 "cells": [
  {
   "cell_type": "code",
   "execution_count": 1,
   "metadata": {
    "execution": {
     "iopub.execute_input": "2023-11-14T11:54:19.620502Z",
     "iopub.status.busy": "2023-11-14T11:54:19.619760Z",
     "iopub.status.idle": "2023-11-14T11:54:20.054541Z",
     "shell.execute_reply": "2023-11-14T11:54:20.053476Z",
     "shell.execute_reply.started": "2023-11-14T11:54:19.620457Z"
    },
    "trusted": true
   },
   "outputs": [],
   "source": [
    "import pandas as pd"
   ]
  },
  {
   "cell_type": "code",
   "execution_count": 2,
   "metadata": {
    "execution": {
     "iopub.execute_input": "2023-11-14T11:54:20.056520Z",
     "iopub.status.busy": "2023-11-14T11:54:20.056055Z",
     "iopub.status.idle": "2023-11-14T11:54:21.478461Z",
     "shell.execute_reply": "2023-11-14T11:54:21.477344Z",
     "shell.execute_reply.started": "2023-11-14T11:54:20.056489Z"
    },
    "trusted": true
   },
   "outputs": [],
   "source": [
    "import matplotlib.pyplot as plt\n",
    "import seaborn as sns\n"
   ]
  },
  {
   "cell_type": "code",
   "execution_count": 3,
   "metadata": {
    "execution": {
     "iopub.execute_input": "2023-11-14T11:54:27.395422Z",
     "iopub.status.busy": "2023-11-14T11:54:27.395023Z",
     "iopub.status.idle": "2023-11-14T11:55:33.495115Z",
     "shell.execute_reply": "2023-11-14T11:55:33.493934Z",
     "shell.execute_reply.started": "2023-11-14T11:54:27.395393Z"
    },
    "trusted": true
   },
   "outputs": [],
   "source": [
    "df = pd.read_csv(r'D:\\JPPY2326\\JPPY2326\\SOURCE CODE\\model\\DATASET\\output.csv', sep = '\\t')\n",
    "# df.head()"
   ]
  },
  {
   "cell_type": "code",
   "execution_count": 4,
   "metadata": {
    "execution": {
     "iopub.execute_input": "2023-11-14T11:55:33.497411Z",
     "iopub.status.busy": "2023-11-14T11:55:33.497046Z",
     "iopub.status.idle": "2023-11-14T11:55:39.340703Z",
     "shell.execute_reply": "2023-11-14T11:55:39.339495Z",
     "shell.execute_reply.started": "2023-11-14T11:55:33.497381Z"
    },
    "trusted": true
   },
   "outputs": [
    {
     "data": {
      "text/html": [
       "<div>\n",
       "<style scoped>\n",
       "    .dataframe tbody tr th:only-of-type {\n",
       "        vertical-align: middle;\n",
       "    }\n",
       "\n",
       "    .dataframe tbody tr th {\n",
       "        vertical-align: top;\n",
       "    }\n",
       "\n",
       "    .dataframe thead th {\n",
       "        text-align: right;\n",
       "    }\n",
       "</style>\n",
       "<table border=\"1\" class=\"dataframe\">\n",
       "  <thead>\n",
       "    <tr style=\"text-align: right;\">\n",
       "      <th></th>\n",
       "      <th>Unnamed: 0</th>\n",
       "      <th>Address</th>\n",
       "      <th>CaseNumber</th>\n",
       "      <th>CrimeAgainst</th>\n",
       "      <th>Neighborhood</th>\n",
       "      <th>OccurDate</th>\n",
       "      <th>OccurTime</th>\n",
       "      <th>OffenseCategory</th>\n",
       "      <th>OffenseType</th>\n",
       "      <th>OpenDataLat</th>\n",
       "      <th>OpenDataLon</th>\n",
       "      <th>OpenDataX</th>\n",
       "      <th>OpenDataY</th>\n",
       "      <th>ReportDate</th>\n",
       "      <th>OffenseCount</th>\n",
       "    </tr>\n",
       "  </thead>\n",
       "  <tbody>\n",
       "    <tr>\n",
       "      <th>0</th>\n",
       "      <td>492134</td>\n",
       "      <td>6300 BLOCK OF N LOMBARD ST</td>\n",
       "      <td>23-917974</td>\n",
       "      <td>Property</td>\n",
       "      <td>University Park</td>\n",
       "      <td>2023-07-31</td>\n",
       "      <td>1926</td>\n",
       "      <td>Larceny Offenses</td>\n",
       "      <td>Shoplifting</td>\n",
       "      <td>45.585250</td>\n",
       "      <td>-122.731728</td>\n",
       "      <td>7630813.0</td>\n",
       "      <td>707361.0</td>\n",
       "      <td>2023-07-31</td>\n",
       "      <td>1</td>\n",
       "    </tr>\n",
       "    <tr>\n",
       "      <th>1</th>\n",
       "      <td>474760</td>\n",
       "      <td>600 BLOCK OF SE 146TH AVE</td>\n",
       "      <td>23-200198</td>\n",
       "      <td>Property</td>\n",
       "      <td>Centennial</td>\n",
       "      <td>2023-07-31</td>\n",
       "      <td>555</td>\n",
       "      <td>Motor Vehicle Theft</td>\n",
       "      <td>Motor Vehicle Theft</td>\n",
       "      <td>45.517729</td>\n",
       "      <td>-122.513341</td>\n",
       "      <td>7686091.0</td>\n",
       "      <td>681281.0</td>\n",
       "      <td>2023-07-31</td>\n",
       "      <td>1</td>\n",
       "    </tr>\n",
       "    <tr>\n",
       "      <th>2</th>\n",
       "      <td>475814</td>\n",
       "      <td>700 BLOCK OF SW 10TH AVE</td>\n",
       "      <td>23-917935</td>\n",
       "      <td>Property</td>\n",
       "      <td>Downtown</td>\n",
       "      <td>2023-07-31</td>\n",
       "      <td>1110</td>\n",
       "      <td>Larceny Offenses</td>\n",
       "      <td>Theft From Motor Vehicle</td>\n",
       "      <td>45.519658</td>\n",
       "      <td>-122.682225</td>\n",
       "      <td>7642836.0</td>\n",
       "      <td>683108.0</td>\n",
       "      <td>2023-07-31</td>\n",
       "      <td>1</td>\n",
       "    </tr>\n",
       "    <tr>\n",
       "      <th>3</th>\n",
       "      <td>499387</td>\n",
       "      <td>14000 BLOCK OF NE AIRPORT WAY</td>\n",
       "      <td>23-917921</td>\n",
       "      <td>Property</td>\n",
       "      <td>Argay</td>\n",
       "      <td>2023-07-31</td>\n",
       "      <td>900</td>\n",
       "      <td>Larceny Offenses</td>\n",
       "      <td>Theft of Motor Vehicle Parts or Accessories</td>\n",
       "      <td>45.561735</td>\n",
       "      <td>-122.518390</td>\n",
       "      <td>7685198.0</td>\n",
       "      <td>697353.0</td>\n",
       "      <td>2023-07-31</td>\n",
       "      <td>1</td>\n",
       "    </tr>\n",
       "    <tr>\n",
       "      <th>4</th>\n",
       "      <td>475599</td>\n",
       "      <td>700 BLOCK OF SW 5TH AVE</td>\n",
       "      <td>23-200558</td>\n",
       "      <td>Person</td>\n",
       "      <td>Downtown</td>\n",
       "      <td>2023-07-31</td>\n",
       "      <td>1601</td>\n",
       "      <td>Assault Offenses</td>\n",
       "      <td>Simple Assault</td>\n",
       "      <td>45.518452</td>\n",
       "      <td>-122.677706</td>\n",
       "      <td>7643982.0</td>\n",
       "      <td>682637.0</td>\n",
       "      <td>2023-07-31</td>\n",
       "      <td>1</td>\n",
       "    </tr>\n",
       "    <tr>\n",
       "      <th>...</th>\n",
       "      <td>...</td>\n",
       "      <td>...</td>\n",
       "      <td>...</td>\n",
       "      <td>...</td>\n",
       "      <td>...</td>\n",
       "      <td>...</td>\n",
       "      <td>...</td>\n",
       "      <td>...</td>\n",
       "      <td>...</td>\n",
       "      <td>...</td>\n",
       "      <td>...</td>\n",
       "      <td>...</td>\n",
       "      <td>...</td>\n",
       "      <td>...</td>\n",
       "      <td>...</td>\n",
       "    </tr>\n",
       "    <tr>\n",
       "      <th>505058</th>\n",
       "      <td>22964</td>\n",
       "      <td>5400 BLOCK OF SW VIEW POINT TER</td>\n",
       "      <td>15-654432</td>\n",
       "      <td>Property</td>\n",
       "      <td>South Portland</td>\n",
       "      <td>2015-05-01</td>\n",
       "      <td>2200</td>\n",
       "      <td>Larceny Offenses</td>\n",
       "      <td>Theft From Motor Vehicle</td>\n",
       "      <td>45.484172</td>\n",
       "      <td>-122.677847</td>\n",
       "      <td>7643609.0</td>\n",
       "      <td>670144.0</td>\n",
       "      <td>2015-05-01</td>\n",
       "      <td>1</td>\n",
       "    </tr>\n",
       "    <tr>\n",
       "      <th>505059</th>\n",
       "      <td>37651</td>\n",
       "      <td>W BURNSIDE ST / SW 5TH AVE</td>\n",
       "      <td>15-143681</td>\n",
       "      <td>Property</td>\n",
       "      <td>Downtown</td>\n",
       "      <td>2015-05-01</td>\n",
       "      <td>1600</td>\n",
       "      <td>Vandalism</td>\n",
       "      <td>Vandalism</td>\n",
       "      <td>45.523080</td>\n",
       "      <td>-122.675409</td>\n",
       "      <td>7644616.0</td>\n",
       "      <td>684308.0</td>\n",
       "      <td>2015-05-01</td>\n",
       "      <td>1</td>\n",
       "    </tr>\n",
       "    <tr>\n",
       "      <th>505060</th>\n",
       "      <td>6189</td>\n",
       "      <td>400 BLOCK OF SW SALMON ST</td>\n",
       "      <td>15-140697</td>\n",
       "      <td>Property</td>\n",
       "      <td>Downtown</td>\n",
       "      <td>2015-05-01</td>\n",
       "      <td>1600</td>\n",
       "      <td>Vandalism</td>\n",
       "      <td>Vandalism</td>\n",
       "      <td>45.516624</td>\n",
       "      <td>-122.678174</td>\n",
       "      <td>7643844.0</td>\n",
       "      <td>681974.0</td>\n",
       "      <td>2015-05-01</td>\n",
       "      <td>1</td>\n",
       "    </tr>\n",
       "    <tr>\n",
       "      <th>505061</th>\n",
       "      <td>13877</td>\n",
       "      <td>1900 BLOCK OF SE 6TH AVE</td>\n",
       "      <td>15-654389</td>\n",
       "      <td>Property</td>\n",
       "      <td>Hosford-Abernethy</td>\n",
       "      <td>2015-05-01</td>\n",
       "      <td>1255</td>\n",
       "      <td>Vandalism</td>\n",
       "      <td>Vandalism</td>\n",
       "      <td>45.509024</td>\n",
       "      <td>-122.659847</td>\n",
       "      <td>7648466.0</td>\n",
       "      <td>679078.0</td>\n",
       "      <td>2015-05-01</td>\n",
       "      <td>1</td>\n",
       "    </tr>\n",
       "    <tr>\n",
       "      <th>505062</th>\n",
       "      <td>33485</td>\n",
       "      <td>NE ALBERTA ST / NE 30TH AVE</td>\n",
       "      <td>15-143179</td>\n",
       "      <td>Property</td>\n",
       "      <td>Concordia</td>\n",
       "      <td>2015-05-01</td>\n",
       "      <td>1900</td>\n",
       "      <td>Larceny Offenses</td>\n",
       "      <td>All Other Larceny</td>\n",
       "      <td>45.559036</td>\n",
       "      <td>-122.634861</td>\n",
       "      <td>7655351.0</td>\n",
       "      <td>697136.0</td>\n",
       "      <td>2015-05-01</td>\n",
       "      <td>1</td>\n",
       "    </tr>\n",
       "  </tbody>\n",
       "</table>\n",
       "<p>505063 rows × 15 columns</p>\n",
       "</div>"
      ],
      "text/plain": [
       "        Unnamed: 0                          Address CaseNumber CrimeAgainst   \n",
       "0           492134       6300 BLOCK OF N LOMBARD ST  23-917974     Property  \\\n",
       "1           474760        600 BLOCK OF SE 146TH AVE  23-200198     Property   \n",
       "2           475814         700 BLOCK OF SW 10TH AVE  23-917935     Property   \n",
       "3           499387    14000 BLOCK OF NE AIRPORT WAY  23-917921     Property   \n",
       "4           475599          700 BLOCK OF SW 5TH AVE  23-200558       Person   \n",
       "...            ...                              ...        ...          ...   \n",
       "505058       22964  5400 BLOCK OF SW VIEW POINT TER  15-654432     Property   \n",
       "505059       37651       W BURNSIDE ST / SW 5TH AVE  15-143681     Property   \n",
       "505060        6189        400 BLOCK OF SW SALMON ST  15-140697     Property   \n",
       "505061       13877         1900 BLOCK OF SE 6TH AVE  15-654389     Property   \n",
       "505062       33485      NE ALBERTA ST / NE 30TH AVE  15-143179     Property   \n",
       "\n",
       "             Neighborhood   OccurDate  OccurTime      OffenseCategory   \n",
       "0         University Park  2023-07-31       1926     Larceny Offenses  \\\n",
       "1              Centennial  2023-07-31        555  Motor Vehicle Theft   \n",
       "2                Downtown  2023-07-31       1110     Larceny Offenses   \n",
       "3                   Argay  2023-07-31        900     Larceny Offenses   \n",
       "4                Downtown  2023-07-31       1601     Assault Offenses   \n",
       "...                   ...         ...        ...                  ...   \n",
       "505058     South Portland  2015-05-01       2200     Larceny Offenses   \n",
       "505059           Downtown  2015-05-01       1600            Vandalism   \n",
       "505060           Downtown  2015-05-01       1600            Vandalism   \n",
       "505061  Hosford-Abernethy  2015-05-01       1255            Vandalism   \n",
       "505062          Concordia  2015-05-01       1900     Larceny Offenses   \n",
       "\n",
       "                                        OffenseType  OpenDataLat  OpenDataLon   \n",
       "0                                       Shoplifting    45.585250  -122.731728  \\\n",
       "1                               Motor Vehicle Theft    45.517729  -122.513341   \n",
       "2                          Theft From Motor Vehicle    45.519658  -122.682225   \n",
       "3       Theft of Motor Vehicle Parts or Accessories    45.561735  -122.518390   \n",
       "4                                    Simple Assault    45.518452  -122.677706   \n",
       "...                                             ...          ...          ...   \n",
       "505058                     Theft From Motor Vehicle    45.484172  -122.677847   \n",
       "505059                                    Vandalism    45.523080  -122.675409   \n",
       "505060                                    Vandalism    45.516624  -122.678174   \n",
       "505061                                    Vandalism    45.509024  -122.659847   \n",
       "505062                            All Other Larceny    45.559036  -122.634861   \n",
       "\n",
       "        OpenDataX  OpenDataY  ReportDate  OffenseCount  \n",
       "0       7630813.0   707361.0  2023-07-31             1  \n",
       "1       7686091.0   681281.0  2023-07-31             1  \n",
       "2       7642836.0   683108.0  2023-07-31             1  \n",
       "3       7685198.0   697353.0  2023-07-31             1  \n",
       "4       7643982.0   682637.0  2023-07-31             1  \n",
       "...           ...        ...         ...           ...  \n",
       "505058  7643609.0   670144.0  2015-05-01             1  \n",
       "505059  7644616.0   684308.0  2015-05-01             1  \n",
       "505060  7643844.0   681974.0  2015-05-01             1  \n",
       "505061  7648466.0   679078.0  2015-05-01             1  \n",
       "505062  7655351.0   697136.0  2015-05-01             1  \n",
       "\n",
       "[505063 rows x 15 columns]"
      ]
     },
     "execution_count": 4,
     "metadata": {},
     "output_type": "execute_result"
    }
   ],
   "source": [
    "df"
   ]
  },
  {
   "cell_type": "code",
   "execution_count": 5,
   "metadata": {},
   "outputs": [],
   "source": [
    "# s = df [['Unnamed: 0','Address','CaseNumber','CrimeAgainst','Neighborhood','OccurDate','OccurTime','OffenseCategory','OffenseType','OpenDataLat','OpenDataLon','OpenDataX','OpenDataY','ReportDate','OffenseCount']]"
   ]
  },
  {
   "cell_type": "code",
   "execution_count": 6,
   "metadata": {},
   "outputs": [],
   "source": [
    "# ss = pd.DataFrame(s)\n",
    "# ss.to_csv (r'C:\\Users\\IT Support\\Downloads\\nuke\\model for crime\\esigned-1.0.0\\uploads.csv', index = False, header=True)"
   ]
  },
  {
   "cell_type": "code",
   "execution_count": 7,
   "metadata": {},
   "outputs": [
    {
     "data": {
      "text/html": [
       "<div>\n",
       "<style scoped>\n",
       "    .dataframe tbody tr th:only-of-type {\n",
       "        vertical-align: middle;\n",
       "    }\n",
       "\n",
       "    .dataframe tbody tr th {\n",
       "        vertical-align: top;\n",
       "    }\n",
       "\n",
       "    .dataframe thead th {\n",
       "        text-align: right;\n",
       "    }\n",
       "</style>\n",
       "<table border=\"1\" class=\"dataframe\">\n",
       "  <thead>\n",
       "    <tr style=\"text-align: right;\">\n",
       "      <th></th>\n",
       "      <th>Unnamed: 0</th>\n",
       "      <th>Address</th>\n",
       "      <th>CaseNumber</th>\n",
       "      <th>CrimeAgainst</th>\n",
       "      <th>Neighborhood</th>\n",
       "      <th>OccurDate</th>\n",
       "      <th>OccurTime</th>\n",
       "      <th>OffenseCategory</th>\n",
       "      <th>OffenseType</th>\n",
       "      <th>OpenDataLat</th>\n",
       "      <th>OpenDataLon</th>\n",
       "      <th>OpenDataX</th>\n",
       "      <th>OpenDataY</th>\n",
       "      <th>ReportDate</th>\n",
       "      <th>OffenseCount</th>\n",
       "    </tr>\n",
       "  </thead>\n",
       "  <tbody>\n",
       "    <tr>\n",
       "      <th>0</th>\n",
       "      <td>False</td>\n",
       "      <td>False</td>\n",
       "      <td>False</td>\n",
       "      <td>False</td>\n",
       "      <td>False</td>\n",
       "      <td>False</td>\n",
       "      <td>False</td>\n",
       "      <td>False</td>\n",
       "      <td>False</td>\n",
       "      <td>False</td>\n",
       "      <td>False</td>\n",
       "      <td>False</td>\n",
       "      <td>False</td>\n",
       "      <td>False</td>\n",
       "      <td>False</td>\n",
       "    </tr>\n",
       "    <tr>\n",
       "      <th>1</th>\n",
       "      <td>False</td>\n",
       "      <td>False</td>\n",
       "      <td>False</td>\n",
       "      <td>False</td>\n",
       "      <td>False</td>\n",
       "      <td>False</td>\n",
       "      <td>False</td>\n",
       "      <td>False</td>\n",
       "      <td>False</td>\n",
       "      <td>False</td>\n",
       "      <td>False</td>\n",
       "      <td>False</td>\n",
       "      <td>False</td>\n",
       "      <td>False</td>\n",
       "      <td>False</td>\n",
       "    </tr>\n",
       "    <tr>\n",
       "      <th>2</th>\n",
       "      <td>False</td>\n",
       "      <td>False</td>\n",
       "      <td>False</td>\n",
       "      <td>False</td>\n",
       "      <td>False</td>\n",
       "      <td>False</td>\n",
       "      <td>False</td>\n",
       "      <td>False</td>\n",
       "      <td>False</td>\n",
       "      <td>False</td>\n",
       "      <td>False</td>\n",
       "      <td>False</td>\n",
       "      <td>False</td>\n",
       "      <td>False</td>\n",
       "      <td>False</td>\n",
       "    </tr>\n",
       "    <tr>\n",
       "      <th>3</th>\n",
       "      <td>False</td>\n",
       "      <td>False</td>\n",
       "      <td>False</td>\n",
       "      <td>False</td>\n",
       "      <td>False</td>\n",
       "      <td>False</td>\n",
       "      <td>False</td>\n",
       "      <td>False</td>\n",
       "      <td>False</td>\n",
       "      <td>False</td>\n",
       "      <td>False</td>\n",
       "      <td>False</td>\n",
       "      <td>False</td>\n",
       "      <td>False</td>\n",
       "      <td>False</td>\n",
       "    </tr>\n",
       "    <tr>\n",
       "      <th>4</th>\n",
       "      <td>False</td>\n",
       "      <td>False</td>\n",
       "      <td>False</td>\n",
       "      <td>False</td>\n",
       "      <td>False</td>\n",
       "      <td>False</td>\n",
       "      <td>False</td>\n",
       "      <td>False</td>\n",
       "      <td>False</td>\n",
       "      <td>False</td>\n",
       "      <td>False</td>\n",
       "      <td>False</td>\n",
       "      <td>False</td>\n",
       "      <td>False</td>\n",
       "      <td>False</td>\n",
       "    </tr>\n",
       "    <tr>\n",
       "      <th>...</th>\n",
       "      <td>...</td>\n",
       "      <td>...</td>\n",
       "      <td>...</td>\n",
       "      <td>...</td>\n",
       "      <td>...</td>\n",
       "      <td>...</td>\n",
       "      <td>...</td>\n",
       "      <td>...</td>\n",
       "      <td>...</td>\n",
       "      <td>...</td>\n",
       "      <td>...</td>\n",
       "      <td>...</td>\n",
       "      <td>...</td>\n",
       "      <td>...</td>\n",
       "      <td>...</td>\n",
       "    </tr>\n",
       "    <tr>\n",
       "      <th>505058</th>\n",
       "      <td>False</td>\n",
       "      <td>False</td>\n",
       "      <td>False</td>\n",
       "      <td>False</td>\n",
       "      <td>False</td>\n",
       "      <td>False</td>\n",
       "      <td>False</td>\n",
       "      <td>False</td>\n",
       "      <td>False</td>\n",
       "      <td>False</td>\n",
       "      <td>False</td>\n",
       "      <td>False</td>\n",
       "      <td>False</td>\n",
       "      <td>False</td>\n",
       "      <td>False</td>\n",
       "    </tr>\n",
       "    <tr>\n",
       "      <th>505059</th>\n",
       "      <td>False</td>\n",
       "      <td>False</td>\n",
       "      <td>False</td>\n",
       "      <td>False</td>\n",
       "      <td>False</td>\n",
       "      <td>False</td>\n",
       "      <td>False</td>\n",
       "      <td>False</td>\n",
       "      <td>False</td>\n",
       "      <td>False</td>\n",
       "      <td>False</td>\n",
       "      <td>False</td>\n",
       "      <td>False</td>\n",
       "      <td>False</td>\n",
       "      <td>False</td>\n",
       "    </tr>\n",
       "    <tr>\n",
       "      <th>505060</th>\n",
       "      <td>False</td>\n",
       "      <td>False</td>\n",
       "      <td>False</td>\n",
       "      <td>False</td>\n",
       "      <td>False</td>\n",
       "      <td>False</td>\n",
       "      <td>False</td>\n",
       "      <td>False</td>\n",
       "      <td>False</td>\n",
       "      <td>False</td>\n",
       "      <td>False</td>\n",
       "      <td>False</td>\n",
       "      <td>False</td>\n",
       "      <td>False</td>\n",
       "      <td>False</td>\n",
       "    </tr>\n",
       "    <tr>\n",
       "      <th>505061</th>\n",
       "      <td>False</td>\n",
       "      <td>False</td>\n",
       "      <td>False</td>\n",
       "      <td>False</td>\n",
       "      <td>False</td>\n",
       "      <td>False</td>\n",
       "      <td>False</td>\n",
       "      <td>False</td>\n",
       "      <td>False</td>\n",
       "      <td>False</td>\n",
       "      <td>False</td>\n",
       "      <td>False</td>\n",
       "      <td>False</td>\n",
       "      <td>False</td>\n",
       "      <td>False</td>\n",
       "    </tr>\n",
       "    <tr>\n",
       "      <th>505062</th>\n",
       "      <td>False</td>\n",
       "      <td>False</td>\n",
       "      <td>False</td>\n",
       "      <td>False</td>\n",
       "      <td>False</td>\n",
       "      <td>False</td>\n",
       "      <td>False</td>\n",
       "      <td>False</td>\n",
       "      <td>False</td>\n",
       "      <td>False</td>\n",
       "      <td>False</td>\n",
       "      <td>False</td>\n",
       "      <td>False</td>\n",
       "      <td>False</td>\n",
       "      <td>False</td>\n",
       "    </tr>\n",
       "  </tbody>\n",
       "</table>\n",
       "<p>505063 rows × 15 columns</p>\n",
       "</div>"
      ],
      "text/plain": [
       "        Unnamed: 0  Address  CaseNumber  CrimeAgainst  Neighborhood   \n",
       "0            False    False       False         False         False  \\\n",
       "1            False    False       False         False         False   \n",
       "2            False    False       False         False         False   \n",
       "3            False    False       False         False         False   \n",
       "4            False    False       False         False         False   \n",
       "...            ...      ...         ...           ...           ...   \n",
       "505058       False    False       False         False         False   \n",
       "505059       False    False       False         False         False   \n",
       "505060       False    False       False         False         False   \n",
       "505061       False    False       False         False         False   \n",
       "505062       False    False       False         False         False   \n",
       "\n",
       "        OccurDate  OccurTime  OffenseCategory  OffenseType  OpenDataLat   \n",
       "0           False      False            False        False        False  \\\n",
       "1           False      False            False        False        False   \n",
       "2           False      False            False        False        False   \n",
       "3           False      False            False        False        False   \n",
       "4           False      False            False        False        False   \n",
       "...           ...        ...              ...          ...          ...   \n",
       "505058      False      False            False        False        False   \n",
       "505059      False      False            False        False        False   \n",
       "505060      False      False            False        False        False   \n",
       "505061      False      False            False        False        False   \n",
       "505062      False      False            False        False        False   \n",
       "\n",
       "        OpenDataLon  OpenDataX  OpenDataY  ReportDate  OffenseCount  \n",
       "0             False      False      False       False         False  \n",
       "1             False      False      False       False         False  \n",
       "2             False      False      False       False         False  \n",
       "3             False      False      False       False         False  \n",
       "4             False      False      False       False         False  \n",
       "...             ...        ...        ...         ...           ...  \n",
       "505058        False      False      False       False         False  \n",
       "505059        False      False      False       False         False  \n",
       "505060        False      False      False       False         False  \n",
       "505061        False      False      False       False         False  \n",
       "505062        False      False      False       False         False  \n",
       "\n",
       "[505063 rows x 15 columns]"
      ]
     },
     "execution_count": 7,
     "metadata": {},
     "output_type": "execute_result"
    }
   ],
   "source": [
    "df.isnull()"
   ]
  },
  {
   "cell_type": "code",
   "execution_count": 8,
   "metadata": {
    "execution": {
     "iopub.execute_input": "2023-11-14T11:55:44.940901Z",
     "iopub.status.busy": "2023-11-14T11:55:44.940528Z",
     "iopub.status.idle": "2023-11-14T11:55:54.575807Z",
     "shell.execute_reply": "2023-11-14T11:55:54.574447Z",
     "shell.execute_reply.started": "2023-11-14T11:55:44.940873Z"
    },
    "trusted": true
   },
   "outputs": [],
   "source": [
    "df = df.dropna()"
   ]
  },
  {
   "cell_type": "code",
   "execution_count": 9,
   "metadata": {
    "execution": {
     "iopub.execute_input": "2023-11-14T11:55:57.660176Z",
     "iopub.status.busy": "2023-11-14T11:55:57.659769Z",
     "iopub.status.idle": "2023-11-14T11:55:57.685317Z",
     "shell.execute_reply": "2023-11-14T11:55:57.684298Z",
     "shell.execute_reply.started": "2023-11-14T11:55:57.660141Z"
    },
    "trusted": true
   },
   "outputs": [
    {
     "name": "stdout",
     "output_type": "stream",
     "text": [
      "<class 'pandas.core.frame.DataFrame'>\n",
      "Index: 443813 entries, 0 to 505062\n",
      "Data columns (total 15 columns):\n",
      " #   Column           Non-Null Count   Dtype  \n",
      "---  ------           --------------   -----  \n",
      " 0   Unnamed: 0       443813 non-null  int64  \n",
      " 1   Address          443813 non-null  object \n",
      " 2   CaseNumber       443813 non-null  object \n",
      " 3   CrimeAgainst     443813 non-null  object \n",
      " 4   Neighborhood     443813 non-null  object \n",
      " 5   OccurDate        443813 non-null  object \n",
      " 6   OccurTime        443813 non-null  int64  \n",
      " 7   OffenseCategory  443813 non-null  object \n",
      " 8   OffenseType      443813 non-null  object \n",
      " 9   OpenDataLat      443813 non-null  float64\n",
      " 10  OpenDataLon      443813 non-null  float64\n",
      " 11  OpenDataX        443813 non-null  float64\n",
      " 12  OpenDataY        443813 non-null  float64\n",
      " 13  ReportDate       443813 non-null  object \n",
      " 14  OffenseCount     443813 non-null  int64  \n",
      "dtypes: float64(4), int64(3), object(8)\n",
      "memory usage: 54.2+ MB\n"
     ]
    }
   ],
   "source": [
    "df.info()"
   ]
  },
  {
   "cell_type": "code",
   "execution_count": 10,
   "metadata": {
    "execution": {
     "iopub.execute_input": "2023-11-14T11:56:03.520275Z",
     "iopub.status.busy": "2023-11-14T11:56:03.519905Z",
     "iopub.status.idle": "2023-11-14T11:56:04.211534Z",
     "shell.execute_reply": "2023-11-14T11:56:04.210303Z",
     "shell.execute_reply.started": "2023-11-14T11:56:03.520246Z"
    },
    "trusted": true
   },
   "outputs": [
    {
     "data": {
      "text/plain": [
       "array(['Shoplifting', 'Motor Vehicle Theft', 'Theft From Motor Vehicle',\n",
       "       'Theft of Motor Vehicle Parts or Accessories', 'Simple Assault',\n",
       "       'All Other Larceny', 'Intimidation', 'Drug/Narcotic Violations',\n",
       "       'Weapons Law Violations', 'Theft From Building', 'Vandalism',\n",
       "       'Burglary', 'Aggravated Assault',\n",
       "       'False Pretenses/Swindle/Confidence Game', 'Identity Theft',\n",
       "       'Robbery', 'Counterfeiting/Forgery', 'Credit Card/ATM Fraud',\n",
       "       'Arson', 'Assisting or Promoting Prostitution', 'Pocket-Picking',\n",
       "       'Stolen Property Offenses', 'Animal Cruelty', 'Purse-Snatching',\n",
       "       'Purchasing Prostitution', 'Prostitution', 'Wire Fraud',\n",
       "       'Negligent Manslaughter with a Vehicle', 'Embezzlement',\n",
       "       'Pornography/Obscene Material', 'Negligent Manslaughter',\n",
       "       'Theft From Coin-Operated Machine or Device',\n",
       "       'Extortion/Blackmail', 'Hacking/Computer Invasion',\n",
       "       'Impersonation', 'Bribery', 'Welfare Fraud',\n",
       "       'Drug Equipment Violations',\n",
       "       'Murder and Non-negligent Manslaughter',\n",
       "       'Operating/Promoting/Assisting Gambling'], dtype=object)"
      ]
     },
     "execution_count": 10,
     "metadata": {},
     "output_type": "execute_result"
    }
   ],
   "source": [
    "df['OffenseType'].unique()"
   ]
  },
  {
   "cell_type": "code",
   "execution_count": 11,
   "metadata": {
    "execution": {
     "iopub.execute_input": "2023-11-14T11:58:31.170787Z",
     "iopub.status.busy": "2023-11-14T11:58:31.170371Z",
     "iopub.status.idle": "2023-11-14T11:58:31.893390Z",
     "shell.execute_reply": "2023-11-14T11:58:31.892265Z",
     "shell.execute_reply.started": "2023-11-14T11:58:31.170755Z"
    },
    "trusted": true
   },
   "outputs": [
    {
     "data": {
      "text/plain": [
       "array(['Larceny Offenses', 'Motor Vehicle Theft', 'Assault Offenses',\n",
       "       'Drug/Narcotic Offenses', 'Weapon Law Violations', 'Vandalism',\n",
       "       'Burglary', 'Fraud Offenses', 'Robbery', 'Counterfeiting/Forgery',\n",
       "       'Arson', 'Prostitution Offenses', 'Stolen Property Offenses',\n",
       "       'Animal Cruelty Offenses', 'Homicide Offenses', 'Embezzlement',\n",
       "       'Pornography/Obscene Material', 'Extortion/Blackmail', 'Bribery',\n",
       "       'Gambling Offenses'], dtype=object)"
      ]
     },
     "execution_count": 11,
     "metadata": {},
     "output_type": "execute_result"
    }
   ],
   "source": [
    "df['OffenseCategory'].unique()"
   ]
  },
  {
   "cell_type": "code",
   "execution_count": 12,
   "metadata": {
    "execution": {
     "iopub.execute_input": "2023-11-14T11:59:22.570850Z",
     "iopub.status.busy": "2023-11-14T11:59:22.570420Z",
     "iopub.status.idle": "2023-11-14T11:59:22.619825Z",
     "shell.execute_reply": "2023-11-14T11:59:22.618694Z",
     "shell.execute_reply.started": "2023-11-14T11:59:22.570816Z"
    },
    "trusted": true
   },
   "outputs": [
    {
     "data": {
      "text/plain": [
       "array(['6300 BLOCK OF N LOMBARD ST', '600 BLOCK OF SE 146TH AVE',\n",
       "       '700 BLOCK OF SW 10TH AVE', ...,\n",
       "       'I5 FWY SB AT / EXIT 301 & I84 FWY EB',\n",
       "       'SE CLINTON ST / SE 60TH AVE', '7300 BLOCK OF SE 29TH AVE'],\n",
       "      dtype=object)"
      ]
     },
     "execution_count": 12,
     "metadata": {},
     "output_type": "execute_result"
    }
   ],
   "source": [
    "df['Address'].unique()"
   ]
  },
  {
   "cell_type": "code",
   "execution_count": 13,
   "metadata": {
    "execution": {
     "iopub.execute_input": "2023-11-14T12:07:30.180839Z",
     "iopub.status.busy": "2023-11-14T12:07:30.180427Z",
     "iopub.status.idle": "2023-11-14T12:07:38.761325Z",
     "shell.execute_reply": "2023-11-14T12:07:38.760057Z",
     "shell.execute_reply.started": "2023-11-14T12:07:30.180808Z"
    },
    "trusted": true
   },
   "outputs": [
    {
     "name": "stderr",
     "output_type": "stream",
     "text": [
      "C:\\Users\\JAGANNATH\\AppData\\Local\\Temp\\ipykernel_11620\\3922325355.py:1: SettingWithCopyWarning: \n",
      "A value is trying to be set on a copy of a slice from a DataFrame.\n",
      "Try using .loc[row_indexer,col_indexer] = value instead\n",
      "\n",
      "See the caveats in the documentation: https://pandas.pydata.org/pandas-docs/stable/user_guide/indexing.html#returning-a-view-versus-a-copy\n",
      "  df['OccurDate'] = pd.to_datetime(df['OccurDate'])\n",
      "C:\\Users\\JAGANNATH\\AppData\\Local\\Temp\\ipykernel_11620\\3922325355.py:2: SettingWithCopyWarning: \n",
      "A value is trying to be set on a copy of a slice from a DataFrame.\n",
      "Try using .loc[row_indexer,col_indexer] = value instead\n",
      "\n",
      "See the caveats in the documentation: https://pandas.pydata.org/pandas-docs/stable/user_guide/indexing.html#returning-a-view-versus-a-copy\n",
      "  df['Year'] = df['OccurDate'].dt.year\n",
      "C:\\Users\\JAGANNATH\\AppData\\Local\\Temp\\ipykernel_11620\\3922325355.py:3: SettingWithCopyWarning: \n",
      "A value is trying to be set on a copy of a slice from a DataFrame.\n",
      "Try using .loc[row_indexer,col_indexer] = value instead\n",
      "\n",
      "See the caveats in the documentation: https://pandas.pydata.org/pandas-docs/stable/user_guide/indexing.html#returning-a-view-versus-a-copy\n",
      "  df['Month'] = df['OccurDate'].dt.month\n",
      "C:\\Users\\JAGANNATH\\AppData\\Local\\Temp\\ipykernel_11620\\3922325355.py:4: SettingWithCopyWarning: \n",
      "A value is trying to be set on a copy of a slice from a DataFrame.\n",
      "Try using .loc[row_indexer,col_indexer] = value instead\n",
      "\n",
      "See the caveats in the documentation: https://pandas.pydata.org/pandas-docs/stable/user_guide/indexing.html#returning-a-view-versus-a-copy\n",
      "  df['Day'] = df['OccurDate'].dt.day\n",
      "C:\\Users\\JAGANNATH\\AppData\\Local\\Temp\\ipykernel_11620\\3922325355.py:5: SettingWithCopyWarning: \n",
      "A value is trying to be set on a copy of a slice from a DataFrame.\n",
      "Try using .loc[row_indexer,col_indexer] = value instead\n",
      "\n",
      "See the caveats in the documentation: https://pandas.pydata.org/pandas-docs/stable/user_guide/indexing.html#returning-a-view-versus-a-copy\n",
      "  df['dayOfWeek'] = df['OccurDate'].dt.day_name()\n"
     ]
    },
    {
     "data": {
      "text/html": [
       "<div>\n",
       "<style scoped>\n",
       "    .dataframe tbody tr th:only-of-type {\n",
       "        vertical-align: middle;\n",
       "    }\n",
       "\n",
       "    .dataframe tbody tr th {\n",
       "        vertical-align: top;\n",
       "    }\n",
       "\n",
       "    .dataframe thead th {\n",
       "        text-align: right;\n",
       "    }\n",
       "</style>\n",
       "<table border=\"1\" class=\"dataframe\">\n",
       "  <thead>\n",
       "    <tr style=\"text-align: right;\">\n",
       "      <th></th>\n",
       "      <th>Unnamed: 0</th>\n",
       "      <th>Address</th>\n",
       "      <th>CaseNumber</th>\n",
       "      <th>CrimeAgainst</th>\n",
       "      <th>Neighborhood</th>\n",
       "      <th>OccurDate</th>\n",
       "      <th>OccurTime</th>\n",
       "      <th>OffenseCategory</th>\n",
       "      <th>OffenseType</th>\n",
       "      <th>OpenDataLat</th>\n",
       "      <th>OpenDataLon</th>\n",
       "      <th>OpenDataX</th>\n",
       "      <th>OpenDataY</th>\n",
       "      <th>ReportDate</th>\n",
       "      <th>OffenseCount</th>\n",
       "      <th>Year</th>\n",
       "      <th>Month</th>\n",
       "      <th>Day</th>\n",
       "      <th>dayOfWeek</th>\n",
       "    </tr>\n",
       "  </thead>\n",
       "  <tbody>\n",
       "    <tr>\n",
       "      <th>0</th>\n",
       "      <td>492134</td>\n",
       "      <td>6300 BLOCK OF N LOMBARD ST</td>\n",
       "      <td>23-917974</td>\n",
       "      <td>Property</td>\n",
       "      <td>University Park</td>\n",
       "      <td>2023-07-31</td>\n",
       "      <td>1926</td>\n",
       "      <td>Larceny Offenses</td>\n",
       "      <td>Shoplifting</td>\n",
       "      <td>45.585250</td>\n",
       "      <td>-122.731728</td>\n",
       "      <td>7630813.0</td>\n",
       "      <td>707361.0</td>\n",
       "      <td>2023-07-31</td>\n",
       "      <td>1</td>\n",
       "      <td>2023</td>\n",
       "      <td>7</td>\n",
       "      <td>31</td>\n",
       "      <td>Monday</td>\n",
       "    </tr>\n",
       "    <tr>\n",
       "      <th>1</th>\n",
       "      <td>474760</td>\n",
       "      <td>600 BLOCK OF SE 146TH AVE</td>\n",
       "      <td>23-200198</td>\n",
       "      <td>Property</td>\n",
       "      <td>Centennial</td>\n",
       "      <td>2023-07-31</td>\n",
       "      <td>555</td>\n",
       "      <td>Motor Vehicle Theft</td>\n",
       "      <td>Motor Vehicle Theft</td>\n",
       "      <td>45.517729</td>\n",
       "      <td>-122.513341</td>\n",
       "      <td>7686091.0</td>\n",
       "      <td>681281.0</td>\n",
       "      <td>2023-07-31</td>\n",
       "      <td>1</td>\n",
       "      <td>2023</td>\n",
       "      <td>7</td>\n",
       "      <td>31</td>\n",
       "      <td>Monday</td>\n",
       "    </tr>\n",
       "    <tr>\n",
       "      <th>2</th>\n",
       "      <td>475814</td>\n",
       "      <td>700 BLOCK OF SW 10TH AVE</td>\n",
       "      <td>23-917935</td>\n",
       "      <td>Property</td>\n",
       "      <td>Downtown</td>\n",
       "      <td>2023-07-31</td>\n",
       "      <td>1110</td>\n",
       "      <td>Larceny Offenses</td>\n",
       "      <td>Theft From Motor Vehicle</td>\n",
       "      <td>45.519658</td>\n",
       "      <td>-122.682225</td>\n",
       "      <td>7642836.0</td>\n",
       "      <td>683108.0</td>\n",
       "      <td>2023-07-31</td>\n",
       "      <td>1</td>\n",
       "      <td>2023</td>\n",
       "      <td>7</td>\n",
       "      <td>31</td>\n",
       "      <td>Monday</td>\n",
       "    </tr>\n",
       "    <tr>\n",
       "      <th>3</th>\n",
       "      <td>499387</td>\n",
       "      <td>14000 BLOCK OF NE AIRPORT WAY</td>\n",
       "      <td>23-917921</td>\n",
       "      <td>Property</td>\n",
       "      <td>Argay</td>\n",
       "      <td>2023-07-31</td>\n",
       "      <td>900</td>\n",
       "      <td>Larceny Offenses</td>\n",
       "      <td>Theft of Motor Vehicle Parts or Accessories</td>\n",
       "      <td>45.561735</td>\n",
       "      <td>-122.518390</td>\n",
       "      <td>7685198.0</td>\n",
       "      <td>697353.0</td>\n",
       "      <td>2023-07-31</td>\n",
       "      <td>1</td>\n",
       "      <td>2023</td>\n",
       "      <td>7</td>\n",
       "      <td>31</td>\n",
       "      <td>Monday</td>\n",
       "    </tr>\n",
       "    <tr>\n",
       "      <th>4</th>\n",
       "      <td>475599</td>\n",
       "      <td>700 BLOCK OF SW 5TH AVE</td>\n",
       "      <td>23-200558</td>\n",
       "      <td>Person</td>\n",
       "      <td>Downtown</td>\n",
       "      <td>2023-07-31</td>\n",
       "      <td>1601</td>\n",
       "      <td>Assault Offenses</td>\n",
       "      <td>Simple Assault</td>\n",
       "      <td>45.518452</td>\n",
       "      <td>-122.677706</td>\n",
       "      <td>7643982.0</td>\n",
       "      <td>682637.0</td>\n",
       "      <td>2023-07-31</td>\n",
       "      <td>1</td>\n",
       "      <td>2023</td>\n",
       "      <td>7</td>\n",
       "      <td>31</td>\n",
       "      <td>Monday</td>\n",
       "    </tr>\n",
       "  </tbody>\n",
       "</table>\n",
       "</div>"
      ],
      "text/plain": [
       "   Unnamed: 0                        Address CaseNumber CrimeAgainst   \n",
       "0      492134     6300 BLOCK OF N LOMBARD ST  23-917974     Property  \\\n",
       "1      474760      600 BLOCK OF SE 146TH AVE  23-200198     Property   \n",
       "2      475814       700 BLOCK OF SW 10TH AVE  23-917935     Property   \n",
       "3      499387  14000 BLOCK OF NE AIRPORT WAY  23-917921     Property   \n",
       "4      475599        700 BLOCK OF SW 5TH AVE  23-200558       Person   \n",
       "\n",
       "      Neighborhood  OccurDate  OccurTime      OffenseCategory   \n",
       "0  University Park 2023-07-31       1926     Larceny Offenses  \\\n",
       "1       Centennial 2023-07-31        555  Motor Vehicle Theft   \n",
       "2         Downtown 2023-07-31       1110     Larceny Offenses   \n",
       "3            Argay 2023-07-31        900     Larceny Offenses   \n",
       "4         Downtown 2023-07-31       1601     Assault Offenses   \n",
       "\n",
       "                                   OffenseType  OpenDataLat  OpenDataLon   \n",
       "0                                  Shoplifting    45.585250  -122.731728  \\\n",
       "1                          Motor Vehicle Theft    45.517729  -122.513341   \n",
       "2                     Theft From Motor Vehicle    45.519658  -122.682225   \n",
       "3  Theft of Motor Vehicle Parts or Accessories    45.561735  -122.518390   \n",
       "4                               Simple Assault    45.518452  -122.677706   \n",
       "\n",
       "   OpenDataX  OpenDataY  ReportDate  OffenseCount  Year  Month  Day dayOfWeek  \n",
       "0  7630813.0   707361.0  2023-07-31             1  2023      7   31    Monday  \n",
       "1  7686091.0   681281.0  2023-07-31             1  2023      7   31    Monday  \n",
       "2  7642836.0   683108.0  2023-07-31             1  2023      7   31    Monday  \n",
       "3  7685198.0   697353.0  2023-07-31             1  2023      7   31    Monday  \n",
       "4  7643982.0   682637.0  2023-07-31             1  2023      7   31    Monday  "
      ]
     },
     "execution_count": 13,
     "metadata": {},
     "output_type": "execute_result"
    }
   ],
   "source": [
    "df['OccurDate'] = pd.to_datetime(df['OccurDate'])\n",
    "df['Year'] = df['OccurDate'].dt.year\n",
    "df['Month'] = df['OccurDate'].dt.month\n",
    "df['Day'] = df['OccurDate'].dt.day\n",
    "df['dayOfWeek'] = df['OccurDate'].dt.day_name()\n",
    "# df['WeekOfYear'] = df['OccurDate'].dt.weekofyear\n",
    "# df['Hour'] = df['OccurDate'].dt.hour\n",
    "# df['Minute'] = df['OccurDate'].dt.minute\n",
    "# df['Second'] = df['OccurDate'].dt.second \n",
    "df.head()"
   ]
  },
  {
   "cell_type": "code",
   "execution_count": 14,
   "metadata": {},
   "outputs": [
    {
     "data": {
      "text/plain": [
       "array([ 7,  6,  5,  4,  3,  2,  1, 12, 11, 10,  9,  8])"
      ]
     },
     "execution_count": 14,
     "metadata": {},
     "output_type": "execute_result"
    }
   ],
   "source": [
    "df['Month'].unique()"
   ]
  },
  {
   "cell_type": "code",
   "execution_count": 15,
   "metadata": {},
   "outputs": [],
   "source": [
    "# January -1\n",
    "# February - 2\n",
    "# March - 3\n",
    "# April - 4\n",
    "# May - 5\n",
    "# June - 6\n",
    "# July - 7\n",
    "# August - 8\n",
    "# September - 9\n",
    "# October - 10\n",
    "# November - 11\n",
    "# December - 12"
   ]
  },
  {
   "cell_type": "code",
   "execution_count": 16,
   "metadata": {},
   "outputs": [],
   "source": [
    "# z = df [['Year','Month','Day','dayOfWeek','CrimeAgainst','Neighborhood','OpenDataLat','OpenDataLon','OffenseCategory']]"
   ]
  },
  {
   "cell_type": "code",
   "execution_count": 17,
   "metadata": {},
   "outputs": [],
   "source": [
    "# ss = pd.DataFrame(z)\n",
    "# ss.to_csv (r'C:\\Users\\IT Support\\Downloads\\nuke\\model for crime\\esigned-1.0.0\\templates\\uploads.csv', index = False, header=True)"
   ]
  },
  {
   "cell_type": "code",
   "execution_count": 18,
   "metadata": {},
   "outputs": [
    {
     "data": {
      "text/plain": [
       "array([2023, 2022, 2021, 2020, 2019, 2018, 2017, 2016, 2015])"
      ]
     },
     "execution_count": 18,
     "metadata": {},
     "output_type": "execute_result"
    }
   ],
   "source": [
    "df['Year'].unique()"
   ]
  },
  {
   "cell_type": "code",
   "execution_count": 19,
   "metadata": {},
   "outputs": [
    {
     "name": "stdout",
     "output_type": "stream",
     "text": [
      "<class 'pandas.core.frame.DataFrame'>\n",
      "Index: 443813 entries, 0 to 505062\n",
      "Data columns (total 19 columns):\n",
      " #   Column           Non-Null Count   Dtype         \n",
      "---  ------           --------------   -----         \n",
      " 0   Unnamed: 0       443813 non-null  int64         \n",
      " 1   Address          443813 non-null  object        \n",
      " 2   CaseNumber       443813 non-null  object        \n",
      " 3   CrimeAgainst     443813 non-null  object        \n",
      " 4   Neighborhood     443813 non-null  object        \n",
      " 5   OccurDate        443813 non-null  datetime64[ns]\n",
      " 6   OccurTime        443813 non-null  int64         \n",
      " 7   OffenseCategory  443813 non-null  object        \n",
      " 8   OffenseType      443813 non-null  object        \n",
      " 9   OpenDataLat      443813 non-null  float64       \n",
      " 10  OpenDataLon      443813 non-null  float64       \n",
      " 11  OpenDataX        443813 non-null  float64       \n",
      " 12  OpenDataY        443813 non-null  float64       \n",
      " 13  ReportDate       443813 non-null  object        \n",
      " 14  OffenseCount     443813 non-null  int64         \n",
      " 15  Year             443813 non-null  int32         \n",
      " 16  Month            443813 non-null  int32         \n",
      " 17  Day              443813 non-null  int32         \n",
      " 18  dayOfWeek        443813 non-null  object        \n",
      "dtypes: datetime64[ns](1), float64(4), int32(3), int64(3), object(8)\n",
      "memory usage: 62.6+ MB\n"
     ]
    }
   ],
   "source": [
    "df.info()"
   ]
  },
  {
   "cell_type": "code",
   "execution_count": 20,
   "metadata": {
    "execution": {
     "iopub.execute_input": "2023-11-14T12:07:42.851489Z",
     "iopub.status.busy": "2023-11-14T12:07:42.850935Z",
     "iopub.status.idle": "2023-11-14T12:07:42.918951Z",
     "shell.execute_reply": "2023-11-14T12:07:42.917736Z",
     "shell.execute_reply.started": "2023-11-14T12:07:42.851446Z"
    },
    "trusted": true
   },
   "outputs": [
    {
     "data": {
      "text/plain": [
       "array(['Property', 'Person', 'Society'], dtype=object)"
      ]
     },
     "execution_count": 20,
     "metadata": {},
     "output_type": "execute_result"
    }
   ],
   "source": [
    "df['CrimeAgainst'].unique()"
   ]
  },
  {
   "cell_type": "code",
   "execution_count": 21,
   "metadata": {},
   "outputs": [],
   "source": [
    "df.loc[df['CrimeAgainst']=='Property','CrimeAgainst'] = 0\n",
    "df.loc[df['CrimeAgainst']=='Person','CrimeAgainst'] = 1\n",
    "df.loc[df['CrimeAgainst']=='Society','CrimeAgainst'] = 2"
   ]
  },
  {
   "cell_type": "code",
   "execution_count": 22,
   "metadata": {
    "execution": {
     "iopub.execute_input": "2023-11-14T12:07:43.880615Z",
     "iopub.status.busy": "2023-11-14T12:07:43.880256Z",
     "iopub.status.idle": "2023-11-14T12:07:44.560817Z",
     "shell.execute_reply": "2023-11-14T12:07:44.559722Z",
     "shell.execute_reply.started": "2023-11-14T12:07:43.880586Z"
    },
    "trusted": true
   },
   "outputs": [
    {
     "data": {
      "text/plain": [
       "array(['University Park', 'Centennial', 'Downtown', 'Argay',\n",
       "       'Old Town/Chinatown', 'Sunnyside', 'Buckman East', 'Northwest',\n",
       "       'Eastmoreland', 'Hazelwood', 'Brentwood-Darlington', 'Lents',\n",
       "       'Pearl', 'South Portland', 'Arbor Lodge', 'Piedmont', 'Homestead',\n",
       "       'Roseway', 'Multnomah', 'Woodstock', 'Powellhurst-Gilbert',\n",
       "       'Concordia', 'Goose Hollow', 'Overlook', 'Southwest Hills',\n",
       "       'Hosford-Abernethy', 'Creston-Kenilworth', 'Sellwood-Moreland',\n",
       "       'Buckman West', 'Arlington Heights', 'Eliot', 'Humboldt',\n",
       "       'Laurelhurst', 'South Tabor', 'Cathedral Park', 'Parkrose',\n",
       "       'Sumner', 'Madison South', 'Kerns', 'Montavilla', 'Maplewood',\n",
       "       'Hayhurst', \"Sullivan's Gulch\", 'Lloyd', 'Portsmouth', 'Cully',\n",
       "       'King', 'Reed', 'Richmond', 'Rose City Park', 'Kenton',\n",
       "       'Hillsdale', 'Boise', 'Marshall Park', 'Woodlawn', 'North Tabor',\n",
       "       'Mill Park', 'Alameda', 'Parkrose Heights', 'St Johns', 'Hillside',\n",
       "       'Wilkes', 'Mt Tabor', 'Hollywood', 'Mt Scott-Arleta', 'Irvington',\n",
       "       'Brooklyn', 'Ashcreek', 'Sabin', 'East Columbia', 'Glenfair',\n",
       "       'Beaumont-Wilshire', 'Northwest Heights', 'Foster-Powell',\n",
       "       'Linnton', 'Sunderland', 'Russell', 'Hayden Island',\n",
       "       'Far Southwest', 'Vernon', 'West Portland Park', 'Grant Park',\n",
       "       'Ardenwald', 'Northwest Industrial', 'Crestwood', 'Bridgeton',\n",
       "       'Pleasant Valley', 'Forest Park', 'South Burlingame', 'Bridlemile',\n",
       "       'Sylvan-Highlands', 'Woodland Park', 'Arnold Creek',\n",
       "       'Collins View', 'Healy Heights', 'Markham'], dtype=object)"
      ]
     },
     "execution_count": 22,
     "metadata": {},
     "output_type": "execute_result"
    }
   ],
   "source": [
    "df['Neighborhood'].unique()"
   ]
  },
  {
   "cell_type": "code",
   "execution_count": null,
   "metadata": {},
   "outputs": [],
   "source": [
    "\n",
    " "
   ]
  },
  {
   "cell_type": "code",
   "execution_count": 23,
   "metadata": {},
   "outputs": [],
   "source": [
    "df.loc[df['Neighborhood']=='University Park','Neighborhood'] = 0\n",
    "df.loc[df['Neighborhood']=='Centennial','Neighborhood'] = 1\n",
    "df.loc[df['Neighborhood']=='Downtown','Neighborhood'] = 2\n",
    "df.loc[df['Neighborhood']=='Old Town/Chinatown','Neighborhood'] = 3\n",
    "df.loc[df['Neighborhood']=='Sunnyside','Neighborhood'] = 4\n",
    "df.loc[df['Neighborhood']=='Buckman East','Neighborhood'] = 5\n",
    "df.loc[df['Neighborhood']=='Northwest','Neighborhood'] = 6\n",
    "df.loc[df['Neighborhood']=='Eastmoreland','Neighborhood'] = 7\n",
    "df.loc[df['Neighborhood']=='Hazelwood','Neighborhood'] = 8\n",
    "df.loc[df['Neighborhood']=='Brentwood-Darlington','Neighborhood'] = 9\n",
    "df.loc[df['Neighborhood']=='Lents','Neighborhood'] = 10\n",
    "df.loc[df['Neighborhood']=='Pearl','Neighborhood'] = 11\n",
    "df.loc[df['Neighborhood']=='South Portland','Neighborhood'] = 12\n",
    "df.loc[df['Neighborhood']=='Arbor Lodge','Neighborhood'] = 13\n",
    "df.loc[df['Neighborhood']=='Piedmont','Neighborhood'] = 14\n",
    "df.loc[df['Neighborhood']=='Homestead','Neighborhood'] = 15\n",
    "df.loc[df['Neighborhood']=='Roseway','Neighborhood'] = 16\n",
    "df.loc[df['Neighborhood']=='Multnomah','Neighborhood'] = 17\n",
    "df.loc[df['Neighborhood']=='Woodstock','Neighborhood'] = 18\n",
    "df.loc[df['Neighborhood']=='Powellhurst-Gilbert','Neighborhood'] = 19\n",
    "df.loc[df['Neighborhood']=='Concordia','Neighborhood'] = 20\n",
    "df.loc[df['Neighborhood']=='Goose Hollow','Neighborhood'] = 21\n",
    "df.loc[df['Neighborhood']=='Overlook','Neighborhood'] = 22\n",
    "df.loc[df['Neighborhood']=='Southwest Hills','Neighborhood'] = 23\n",
    "df.loc[df['Neighborhood']=='Hosford-Abernethy','Neighborhood'] = 24\n",
    "df.loc[df['Neighborhood']=='Creston-Kenilworth','Neighborhood'] = 25\n",
    "df.loc[df['Neighborhood']=='Sellwood-Moreland','Neighborhood'] = 26\n",
    "df.loc[df['Neighborhood']=='Buckman West','Neighborhood'] = 27\n",
    "df.loc[df['Neighborhood']=='Arlington Heights','Neighborhood'] = 28\n",
    "df.loc[df['Neighborhood']=='Eliot','Neighborhood'] = 29\n",
    "df.loc[df['Neighborhood']=='Humboldt','Neighborhood'] = 30\n",
    "\n",
    "\n",
    "df.loc[df['Neighborhood']=='Laurelhurst','Neighborhood'] = 31\n",
    "df.loc[df['Neighborhood']=='South Tabor','Neighborhood'] = 32\n",
    "df.loc[df['Neighborhood']=='Cathedral Park','Neighborhood'] = 33\n",
    "df.loc[df['Neighborhood']=='Parkrose','Neighborhood'] = 34\n",
    "df.loc[df['Neighborhood']=='Sumner','Neighborhood'] = 35\n",
    "df.loc[df['Neighborhood']=='Madison South','Neighborhood'] = 36\n",
    "df.loc[df['Neighborhood']=='Kerns','Neighborhood'] = 37\n",
    "df.loc[df['Neighborhood']=='Montavilla','Neighborhood'] = 38\n",
    "df.loc[df['Neighborhood']=='Maplewood','Neighborhood'] = 39\n",
    "df.loc[df['Neighborhood']=='Hayhurst','Neighborhood'] = 40\n",
    "df.loc[df['Neighborhood']==\"Sullivan's Gulch\",'Neighborhood'] = 41\n",
    "df.loc[df['Neighborhood']=='Lloyd','Neighborhood'] = 42\n",
    "df.loc[df['Neighborhood']=='Portsmouth','Neighborhood'] = 43\n",
    "df.loc[df['Neighborhood']=='Cully','Neighborhood'] = 44\n",
    "df.loc[df['Neighborhood']=='King','Neighborhood'] = 45\n",
    "df.loc[df['Neighborhood']=='Reed','Neighborhood'] = 46\n",
    "df.loc[df['Neighborhood']=='Richmond','Neighborhood'] = 47\n",
    "\n",
    "\n",
    "df.loc[df['Neighborhood']=='Rose City Park','Neighborhood'] = 48\n",
    "df.loc[df['Neighborhood']=='Kenton','Neighborhood'] = 49\n",
    "df.loc[df['Neighborhood']=='Hillsdale','Neighborhood'] = 50\n",
    "df.loc[df['Neighborhood']=='Boise','Neighborhood'] = 51\n",
    "df.loc[df['Neighborhood']=='Marshall Park','Neighborhood'] = 52\n",
    "df.loc[df['Neighborhood']=='Woodlawn','Neighborhood'] = 53\n",
    "df.loc[df['Neighborhood']=='North Tabor','Neighborhood'] = 54\n",
    "df.loc[df['Neighborhood']=='Mill Park','Neighborhood'] = 55\n",
    "df.loc[df['Neighborhood']=='Alameda','Neighborhood'] = 56\n",
    "df.loc[df['Neighborhood']=='Parkrose Heights','Neighborhood'] = 57\n",
    "df.loc[df['Neighborhood']=='St Johns','Neighborhood'] = 58\n",
    "df.loc[df['Neighborhood']=='Hillside','Neighborhood'] = 59\n",
    "df.loc[df['Neighborhood']=='Wilkes','Neighborhood'] = 60\n",
    "df.loc[df['Neighborhood']=='Mt Tabor','Neighborhood'] = 61\n",
    "df.loc[df['Neighborhood']=='Hollywood','Neighborhood'] = 62\n",
    "df.loc[df['Neighborhood']=='Mt Scott-Arleta','Neighborhood'] = 63\n",
    "df.loc[df['Neighborhood']=='Irvington','Neighborhood'] = 64\n",
    "\n",
    "\n",
    "\n",
    "\n",
    " \n",
    "df.loc[df['Neighborhood']=='Brooklyn','Neighborhood'] = 65\n",
    "df.loc[df['Neighborhood']=='Ashcreek','Neighborhood'] = 66\n",
    "df.loc[df['Neighborhood']=='Sabin','Neighborhood'] = 67\n",
    "df.loc[df['Neighborhood']=='East Columbia','Neighborhood'] = 68\n",
    "df.loc[df['Neighborhood']=='Glenfair','Neighborhood'] = 69\n",
    "df.loc[df['Neighborhood']=='Beaumont-Wilshire','Neighborhood'] = 70\n",
    "df.loc[df['Neighborhood']=='Northwest Heights','Neighborhood'] = 71\n",
    "df.loc[df['Neighborhood']=='Foster-Powell','Neighborhood'] = 72\n",
    "df.loc[df['Neighborhood']=='Linnton','Neighborhood'] = 73\n",
    "df.loc[df['Neighborhood']=='Sunderland','Neighborhood'] = 74\n",
    "df.loc[df['Neighborhood']=='Russell','Neighborhood'] = 75\n",
    "df.loc[df['Neighborhood']=='Hayden Island','Neighborhood'] = 76\n",
    "df.loc[df['Neighborhood']=='Far Southwest','Neighborhood'] = 77\n",
    "df.loc[df['Neighborhood']=='West Portland Park','Neighborhood'] = 78\n",
    "df.loc[df['Neighborhood']=='Grant Park','Neighborhood'] = 79\n",
    "df.loc[df['Neighborhood']=='Ardenwald','Neighborhood'] = 80\n",
    "df.loc[df['Neighborhood']=='Northwest Industrial','Neighborhood'] = 81\n",
    "\n",
    "\n",
    "\n",
    " \n",
    "\n",
    "df.loc[df['Neighborhood']=='Crestwood','Neighborhood'] = 82\n",
    "df.loc[df['Neighborhood']=='Bridgeton','Neighborhood'] = 83\n",
    "df.loc[df['Neighborhood']=='Pleasant Valley','Neighborhood'] = 84\n",
    "df.loc[df['Neighborhood']=='Forest Park','Neighborhood'] = 85\n",
    "df.loc[df['Neighborhood']=='South Burlingame','Neighborhood'] = 86\n",
    "df.loc[df['Neighborhood']=='Bridlemile','Neighborhood'] = 87\n",
    "df.loc[df['Neighborhood']=='Sylvan-Highlands','Neighborhood'] = 88\n",
    "df.loc[df['Neighborhood']=='Woodland Park','Neighborhood'] = 89\n",
    "df.loc[df['Neighborhood']=='Arnold Creek','Neighborhood'] = 90\n",
    "df.loc[df['Neighborhood']=='Collins View','Neighborhood'] = 91\n",
    "df.loc[df['Neighborhood']=='Healy Heights','Neighborhood'] = 92\n",
    "df.loc[df['Neighborhood']=='Markham','Neighborhood'] = 93\n",
    "\n",
    "\n",
    "df.loc[df['Neighborhood']=='Argay','Neighborhood'] = 94\n",
    "\n",
    "\n",
    "df.loc[df['Neighborhood']=='Vernon','Neighborhood'] = 95\n",
    "\n",
    "\n",
    "\n",
    " \n",
    "\n",
    " "
   ]
  },
  {
   "cell_type": "code",
   "execution_count": 24,
   "metadata": {},
   "outputs": [
    {
     "data": {
      "text/plain": [
       "array([0, 1, 2, 94, 3, 4, 5, 6, 7, 8, 9, 10, 11, 12, 13, 14, 15, 16, 17,\n",
       "       18, 19, 20, 21, 22, 23, 24, 25, 26, 27, 28, 29, 30, 31, 32, 33, 34,\n",
       "       35, 36, 37, 38, 39, 40, 41, 42, 43, 44, 45, 46, 47, 48, 49, 50, 51,\n",
       "       52, 53, 54, 55, 56, 57, 58, 59, 60, 61, 62, 63, 64, 65, 66, 67, 68,\n",
       "       69, 70, 71, 72, 73, 74, 75, 76, 77, 95, 78, 79, 80, 81, 82, 83, 84,\n",
       "       85, 86, 87, 88, 89, 90, 91, 92, 93], dtype=object)"
      ]
     },
     "execution_count": 24,
     "metadata": {},
     "output_type": "execute_result"
    }
   ],
   "source": [
    "df['Neighborhood'].unique()"
   ]
  },
  {
   "cell_type": "code",
   "execution_count": 25,
   "metadata": {},
   "outputs": [],
   "source": [
    "# df['Neighborhood'] / neighborhood change to near place "
   ]
  },
  {
   "cell_type": "code",
   "execution_count": 26,
   "metadata": {},
   "outputs": [
    {
     "data": {
      "text/plain": [
       "Neighborhood\n",
       "2     33645\n",
       "8     27870\n",
       "6     17171\n",
       "10    15593\n",
       "19    14411\n",
       "      ...  \n",
       "71      255\n",
       "89      234\n",
       "82      218\n",
       "52      110\n",
       "92       29\n",
       "Name: count, Length: 96, dtype: int64"
      ]
     },
     "execution_count": 26,
     "metadata": {},
     "output_type": "execute_result"
    }
   ],
   "source": [
    "df['Neighborhood'].value_counts()"
   ]
  },
  {
   "cell_type": "code",
   "execution_count": 27,
   "metadata": {},
   "outputs": [
    {
     "data": {
      "text/plain": [
       "array([45.58525045, 45.5177293 , 45.51965842, ..., 45.47159134,\n",
       "       45.51090733, 45.46972907])"
      ]
     },
     "execution_count": 27,
     "metadata": {},
     "output_type": "execute_result"
    }
   ],
   "source": [
    "df['OpenDataLat'].unique()"
   ]
  },
  {
   "cell_type": "code",
   "execution_count": 28,
   "metadata": {},
   "outputs": [
    {
     "data": {
      "text/plain": [
       "array([-122.73172788, -122.51334064, -122.68222473, ..., -122.63333839,\n",
       "       -122.49660857, -122.55769868])"
      ]
     },
     "execution_count": 28,
     "metadata": {},
     "output_type": "execute_result"
    }
   ],
   "source": [
    "df['OpenDataLon'].unique()"
   ]
  },
  {
   "cell_type": "code",
   "execution_count": 29,
   "metadata": {},
   "outputs": [
    {
     "data": {
      "text/plain": [
       "array([ 1,  2,  3,  6,  5,  4, 11,  9, 12, 16,  7], dtype=int64)"
      ]
     },
     "execution_count": 29,
     "metadata": {},
     "output_type": "execute_result"
    }
   ],
   "source": [
    "df['OffenseCount'].unique()"
   ]
  },
  {
   "cell_type": "code",
   "execution_count": 30,
   "metadata": {},
   "outputs": [
    {
     "data": {
      "text/plain": [
       "array([1926,  555, 1110, ..., 2316, 2248,  717], dtype=int64)"
      ]
     },
     "execution_count": 30,
     "metadata": {},
     "output_type": "execute_result"
    }
   ],
   "source": [
    "df['OccurTime'].unique()"
   ]
  },
  {
   "cell_type": "code",
   "execution_count": 31,
   "metadata": {},
   "outputs": [
    {
     "data": {
      "text/plain": [
       "OccurTime\n",
       "0       13735\n",
       "2200    12281\n",
       "1200    11146\n",
       "2000     9173\n",
       "2100     8961\n",
       "        ...  \n",
       "616        49\n",
       "621        47\n",
       "716        47\n",
       "658        46\n",
       "546        44\n",
       "Name: count, Length: 1440, dtype: int64"
      ]
     },
     "execution_count": 31,
     "metadata": {},
     "output_type": "execute_result"
    }
   ],
   "source": [
    "df['OccurTime'].value_counts()"
   ]
  },
  {
   "cell_type": "code",
   "execution_count": 32,
   "metadata": {},
   "outputs": [
    {
     "data": {
      "text/plain": [
       "Unnamed: 0  Address                       CaseNumber  CrimeAgainst  Neighborhood  OccurDate   OccurTime  OffenseCategory      OffenseType                                  OpenDataLat  OpenDataLon  OpenDataX  OpenDataY  ReportDate  OffenseCount  Year  Month  Day  dayOfWeek\n",
       "3606        0 BLOCK OF NE 32ND AVE        15-908598   0             37            2015-12-11  0          Larceny Offenses     Theft From Motor Vehicle                     45.523237    -122.631758  7655801.0  684067.0   2015-12-11  1             2015  12     11   Friday       1\n",
       "355129      1800 BLOCK OF W BURNSIDE ST   21-681778   0             6             2021-11-24  0          Fraud Offenses       Credit Card/ATM Fraud                        45.523033    -122.689716  7640950.0  684390.0   2021-11-24  1             2021  11     24   Wednesday    1\n",
       "355164      1900 BLOCK OF N VICTORY BLVD  21-255385   0             49            2021-09-13  0          Motor Vehicle Theft  Motor Vehicle Theft                          45.595293    -122.686699  7642436.0  710706.0   2021-09-13  1             2021  9      13   Monday       1\n",
       "355182      1900 BLOCK OF NE 8TH AVE      21-924698   0             64            2021-11-09  0          Larceny Offenses     Theft of Motor Vehicle Parts or Accessories  45.536732    -122.657512  7649334.0  689161.0   2021-11-09  1             2021  11     9    Tuesday      1\n",
       "355189      1900 BLOCK OF NE 19TH AVE     21-900387   0             64            2021-01-06  0          Larceny Offenses     Theft From Motor Vehicle                     45.536696    -122.646709  7652101.0  689074.0   2021-01-06  1             2021  1      6    Wednesday    1\n",
       "                                                                                                                                                                                                                                                                                   ..\n",
       "188033      5000 BLOCK OF SE 30TH AVE     18-903528   0             46            2018-03-05  0          Larceny Offenses     Theft From Motor Vehicle                     45.486739    -122.634403  7654772.0  670782.0   2018-03-05  1             2018  3      5    Monday       1\n",
       "188060      5000 BLOCK OF SE 78TH AVE     18-921171   0             72            2018-12-20  0          Larceny Offenses     Theft From Motor Vehicle                     45.486324    -122.583341  7667859.0  670289.0   2018-12-20  1             2018  12     20   Thursday     1\n",
       "188154      5000 BLOCK OF SE TIBBETTS ST  18-909953   0             47            2018-06-24  0          Larceny Offenses     Theft From Motor Vehicle                     45.500329    -122.610720  7660973.0  675576.0   2018-06-24  1             2018  6      24   Sunday       1\n",
       "188158      5000 BLOCK OF SE WOODWARD ST  18-234074   0             47            2018-07-12  0          Motor Vehicle Theft  Motor Vehicle Theft                          45.501616    -122.610545  7661030.0  676044.0   2018-07-12  1             2018  7      12   Thursday     1\n",
       "505025      W BURNSIDE ST / SW 5TH AVE    23-136605   0             2             2023-05-25  0          Motor Vehicle Theft  Motor Vehicle Theft                          45.523080    -122.675405  7644617.0  684308.0   2023-05-25  1             2023  5      25   Thursday     1\n",
       "Name: count, Length: 13735, dtype: int64"
      ]
     },
     "execution_count": 32,
     "metadata": {},
     "output_type": "execute_result"
    }
   ],
   "source": [
    "df[df['OccurTime']==0].value_counts()"
   ]
  },
  {
   "cell_type": "code",
   "execution_count": 33,
   "metadata": {
    "execution": {
     "iopub.execute_input": "2023-11-14T12:07:45.870583Z",
     "iopub.status.busy": "2023-11-14T12:07:45.869635Z",
     "iopub.status.idle": "2023-11-14T12:07:46.542013Z",
     "shell.execute_reply": "2023-11-14T12:07:46.540984Z",
     "shell.execute_reply.started": "2023-11-14T12:07:45.870546Z"
    },
    "trusted": true
   },
   "outputs": [
    {
     "data": {
      "text/plain": [
       "array(['Monday', 'Sunday', 'Saturday', 'Friday', 'Thursday', 'Wednesday',\n",
       "       'Tuesday'], dtype=object)"
      ]
     },
     "execution_count": 33,
     "metadata": {},
     "output_type": "execute_result"
    }
   ],
   "source": [
    "df['dayOfWeek'].unique()"
   ]
  },
  {
   "cell_type": "code",
   "execution_count": 34,
   "metadata": {
    "execution": {
     "iopub.execute_input": "2023-11-14T12:07:48.100795Z",
     "iopub.status.busy": "2023-11-14T12:07:48.099813Z",
     "iopub.status.idle": "2023-11-14T12:07:57.790610Z",
     "shell.execute_reply": "2023-11-14T12:07:57.789548Z",
     "shell.execute_reply.started": "2023-11-14T12:07:48.100758Z"
    },
    "trusted": true
   },
   "outputs": [],
   "source": [
    "df.loc[df['dayOfWeek']=='Monday','dayOfWeek'] = 0\n",
    "df.loc[df['dayOfWeek']=='Tuesday', 'dayOfWeek'] =1\n",
    "df.loc[df['dayOfWeek']=='Wednesday', 'dayOfWeek'] = 2\n",
    "df.loc[df['dayOfWeek']=='Thursday', 'dayOfWeek'] =3\n",
    "df.loc[df['dayOfWeek']=='Friday', 'dayOfWeek'] =4\n",
    "df.loc[df['dayOfWeek']=='Saturday', 'dayOfWeek'] =5\n",
    "df.loc[df['dayOfWeek']=='Sunday', 'dayOfWeek'] =6"
   ]
  },
  {
   "cell_type": "code",
   "execution_count": 35,
   "metadata": {
    "execution": {
     "iopub.execute_input": "2023-11-14T12:07:57.792923Z",
     "iopub.status.busy": "2023-11-14T12:07:57.792609Z",
     "iopub.status.idle": "2023-11-14T12:07:57.797792Z",
     "shell.execute_reply": "2023-11-14T12:07:57.796585Z",
     "shell.execute_reply.started": "2023-11-14T12:07:57.792897Z"
    },
    "trusted": true
   },
   "outputs": [],
   "source": [
    "plt.rcParams[\"figure.figsize\"] = (150,100)\n"
   ]
  },
  {
   "cell_type": "code",
   "execution_count": 36,
   "metadata": {
    "execution": {
     "iopub.execute_input": "2023-11-14T12:07:57.799531Z",
     "iopub.status.busy": "2023-11-14T12:07:57.799129Z",
     "iopub.status.idle": "2023-11-14T12:07:57.811271Z",
     "shell.execute_reply": "2023-11-14T12:07:57.810414Z",
     "shell.execute_reply.started": "2023-11-14T12:07:57.799488Z"
    },
    "trusted": true
   },
   "outputs": [],
   "source": [
    "# sns.barplot(x='Primary Type', y='dayOfWeek', data=df)"
   ]
  },
  {
   "cell_type": "code",
   "execution_count": 37,
   "metadata": {
    "execution": {
     "iopub.execute_input": "2023-11-14T12:07:57.814868Z",
     "iopub.status.busy": "2023-11-14T12:07:57.813664Z",
     "iopub.status.idle": "2023-11-14T12:10:09.088709Z",
     "shell.execute_reply": "2023-11-14T12:10:09.087563Z",
     "shell.execute_reply.started": "2023-11-14T12:07:57.814824Z"
    },
    "trusted": true
   },
   "outputs": [],
   "source": [
    "# sns.barplot(x='Primary Type', y='Month', data=df)"
   ]
  },
  {
   "cell_type": "code",
   "execution_count": 38,
   "metadata": {
    "execution": {
     "iopub.execute_input": "2023-11-14T12:13:41.537611Z",
     "iopub.status.busy": "2023-11-14T12:13:41.537151Z",
     "iopub.status.idle": "2023-11-14T12:13:47.234071Z",
     "shell.execute_reply": "2023-11-14T12:13:47.232996Z",
     "shell.execute_reply.started": "2023-11-14T12:13:41.537578Z"
    },
    "trusted": true
   },
   "outputs": [
    {
     "data": {
      "text/html": [
       "<div>\n",
       "<style scoped>\n",
       "    .dataframe tbody tr th:only-of-type {\n",
       "        vertical-align: middle;\n",
       "    }\n",
       "\n",
       "    .dataframe tbody tr th {\n",
       "        vertical-align: top;\n",
       "    }\n",
       "\n",
       "    .dataframe thead th {\n",
       "        text-align: right;\n",
       "    }\n",
       "</style>\n",
       "<table border=\"1\" class=\"dataframe\">\n",
       "  <thead>\n",
       "    <tr style=\"text-align: right;\">\n",
       "      <th></th>\n",
       "      <th>Unnamed: 0</th>\n",
       "      <th>Address</th>\n",
       "      <th>CaseNumber</th>\n",
       "      <th>CrimeAgainst</th>\n",
       "      <th>Neighborhood</th>\n",
       "      <th>OccurDate</th>\n",
       "      <th>OccurTime</th>\n",
       "      <th>OffenseCategory</th>\n",
       "      <th>OffenseType</th>\n",
       "      <th>OpenDataLat</th>\n",
       "      <th>OpenDataLon</th>\n",
       "      <th>OpenDataX</th>\n",
       "      <th>OpenDataY</th>\n",
       "      <th>ReportDate</th>\n",
       "      <th>OffenseCount</th>\n",
       "      <th>Year</th>\n",
       "      <th>Month</th>\n",
       "      <th>Day</th>\n",
       "      <th>dayOfWeek</th>\n",
       "    </tr>\n",
       "  </thead>\n",
       "  <tbody>\n",
       "    <tr>\n",
       "      <th>0</th>\n",
       "      <td>492134</td>\n",
       "      <td>6300 BLOCK OF N LOMBARD ST</td>\n",
       "      <td>23-917974</td>\n",
       "      <td>0</td>\n",
       "      <td>0</td>\n",
       "      <td>2023-07-31</td>\n",
       "      <td>1926</td>\n",
       "      <td>Larceny Offenses</td>\n",
       "      <td>Shoplifting</td>\n",
       "      <td>45.585250</td>\n",
       "      <td>-122.731728</td>\n",
       "      <td>7630813.0</td>\n",
       "      <td>707361.0</td>\n",
       "      <td>2023-07-31</td>\n",
       "      <td>1</td>\n",
       "      <td>2023</td>\n",
       "      <td>7</td>\n",
       "      <td>31</td>\n",
       "      <td>0</td>\n",
       "    </tr>\n",
       "    <tr>\n",
       "      <th>1</th>\n",
       "      <td>474760</td>\n",
       "      <td>600 BLOCK OF SE 146TH AVE</td>\n",
       "      <td>23-200198</td>\n",
       "      <td>0</td>\n",
       "      <td>1</td>\n",
       "      <td>2023-07-31</td>\n",
       "      <td>555</td>\n",
       "      <td>Motor Vehicle Theft</td>\n",
       "      <td>Motor Vehicle Theft</td>\n",
       "      <td>45.517729</td>\n",
       "      <td>-122.513341</td>\n",
       "      <td>7686091.0</td>\n",
       "      <td>681281.0</td>\n",
       "      <td>2023-07-31</td>\n",
       "      <td>1</td>\n",
       "      <td>2023</td>\n",
       "      <td>7</td>\n",
       "      <td>31</td>\n",
       "      <td>0</td>\n",
       "    </tr>\n",
       "    <tr>\n",
       "      <th>2</th>\n",
       "      <td>475814</td>\n",
       "      <td>700 BLOCK OF SW 10TH AVE</td>\n",
       "      <td>23-917935</td>\n",
       "      <td>0</td>\n",
       "      <td>2</td>\n",
       "      <td>2023-07-31</td>\n",
       "      <td>1110</td>\n",
       "      <td>Larceny Offenses</td>\n",
       "      <td>Theft From Motor Vehicle</td>\n",
       "      <td>45.519658</td>\n",
       "      <td>-122.682225</td>\n",
       "      <td>7642836.0</td>\n",
       "      <td>683108.0</td>\n",
       "      <td>2023-07-31</td>\n",
       "      <td>1</td>\n",
       "      <td>2023</td>\n",
       "      <td>7</td>\n",
       "      <td>31</td>\n",
       "      <td>0</td>\n",
       "    </tr>\n",
       "    <tr>\n",
       "      <th>3</th>\n",
       "      <td>499387</td>\n",
       "      <td>14000 BLOCK OF NE AIRPORT WAY</td>\n",
       "      <td>23-917921</td>\n",
       "      <td>0</td>\n",
       "      <td>94</td>\n",
       "      <td>2023-07-31</td>\n",
       "      <td>900</td>\n",
       "      <td>Larceny Offenses</td>\n",
       "      <td>Theft of Motor Vehicle Parts or Accessories</td>\n",
       "      <td>45.561735</td>\n",
       "      <td>-122.518390</td>\n",
       "      <td>7685198.0</td>\n",
       "      <td>697353.0</td>\n",
       "      <td>2023-07-31</td>\n",
       "      <td>1</td>\n",
       "      <td>2023</td>\n",
       "      <td>7</td>\n",
       "      <td>31</td>\n",
       "      <td>0</td>\n",
       "    </tr>\n",
       "    <tr>\n",
       "      <th>4</th>\n",
       "      <td>475599</td>\n",
       "      <td>700 BLOCK OF SW 5TH AVE</td>\n",
       "      <td>23-200558</td>\n",
       "      <td>1</td>\n",
       "      <td>2</td>\n",
       "      <td>2023-07-31</td>\n",
       "      <td>1601</td>\n",
       "      <td>Assault Offenses</td>\n",
       "      <td>Simple Assault</td>\n",
       "      <td>45.518452</td>\n",
       "      <td>-122.677706</td>\n",
       "      <td>7643982.0</td>\n",
       "      <td>682637.0</td>\n",
       "      <td>2023-07-31</td>\n",
       "      <td>1</td>\n",
       "      <td>2023</td>\n",
       "      <td>7</td>\n",
       "      <td>31</td>\n",
       "      <td>0</td>\n",
       "    </tr>\n",
       "    <tr>\n",
       "      <th>...</th>\n",
       "      <td>...</td>\n",
       "      <td>...</td>\n",
       "      <td>...</td>\n",
       "      <td>...</td>\n",
       "      <td>...</td>\n",
       "      <td>...</td>\n",
       "      <td>...</td>\n",
       "      <td>...</td>\n",
       "      <td>...</td>\n",
       "      <td>...</td>\n",
       "      <td>...</td>\n",
       "      <td>...</td>\n",
       "      <td>...</td>\n",
       "      <td>...</td>\n",
       "      <td>...</td>\n",
       "      <td>...</td>\n",
       "      <td>...</td>\n",
       "      <td>...</td>\n",
       "      <td>...</td>\n",
       "    </tr>\n",
       "    <tr>\n",
       "      <th>505058</th>\n",
       "      <td>22964</td>\n",
       "      <td>5400 BLOCK OF SW VIEW POINT TER</td>\n",
       "      <td>15-654432</td>\n",
       "      <td>0</td>\n",
       "      <td>12</td>\n",
       "      <td>2015-05-01</td>\n",
       "      <td>2200</td>\n",
       "      <td>Larceny Offenses</td>\n",
       "      <td>Theft From Motor Vehicle</td>\n",
       "      <td>45.484172</td>\n",
       "      <td>-122.677847</td>\n",
       "      <td>7643609.0</td>\n",
       "      <td>670144.0</td>\n",
       "      <td>2015-05-01</td>\n",
       "      <td>1</td>\n",
       "      <td>2015</td>\n",
       "      <td>5</td>\n",
       "      <td>1</td>\n",
       "      <td>4</td>\n",
       "    </tr>\n",
       "    <tr>\n",
       "      <th>505059</th>\n",
       "      <td>37651</td>\n",
       "      <td>W BURNSIDE ST / SW 5TH AVE</td>\n",
       "      <td>15-143681</td>\n",
       "      <td>0</td>\n",
       "      <td>2</td>\n",
       "      <td>2015-05-01</td>\n",
       "      <td>1600</td>\n",
       "      <td>Vandalism</td>\n",
       "      <td>Vandalism</td>\n",
       "      <td>45.523080</td>\n",
       "      <td>-122.675409</td>\n",
       "      <td>7644616.0</td>\n",
       "      <td>684308.0</td>\n",
       "      <td>2015-05-01</td>\n",
       "      <td>1</td>\n",
       "      <td>2015</td>\n",
       "      <td>5</td>\n",
       "      <td>1</td>\n",
       "      <td>4</td>\n",
       "    </tr>\n",
       "    <tr>\n",
       "      <th>505060</th>\n",
       "      <td>6189</td>\n",
       "      <td>400 BLOCK OF SW SALMON ST</td>\n",
       "      <td>15-140697</td>\n",
       "      <td>0</td>\n",
       "      <td>2</td>\n",
       "      <td>2015-05-01</td>\n",
       "      <td>1600</td>\n",
       "      <td>Vandalism</td>\n",
       "      <td>Vandalism</td>\n",
       "      <td>45.516624</td>\n",
       "      <td>-122.678174</td>\n",
       "      <td>7643844.0</td>\n",
       "      <td>681974.0</td>\n",
       "      <td>2015-05-01</td>\n",
       "      <td>1</td>\n",
       "      <td>2015</td>\n",
       "      <td>5</td>\n",
       "      <td>1</td>\n",
       "      <td>4</td>\n",
       "    </tr>\n",
       "    <tr>\n",
       "      <th>505061</th>\n",
       "      <td>13877</td>\n",
       "      <td>1900 BLOCK OF SE 6TH AVE</td>\n",
       "      <td>15-654389</td>\n",
       "      <td>0</td>\n",
       "      <td>24</td>\n",
       "      <td>2015-05-01</td>\n",
       "      <td>1255</td>\n",
       "      <td>Vandalism</td>\n",
       "      <td>Vandalism</td>\n",
       "      <td>45.509024</td>\n",
       "      <td>-122.659847</td>\n",
       "      <td>7648466.0</td>\n",
       "      <td>679078.0</td>\n",
       "      <td>2015-05-01</td>\n",
       "      <td>1</td>\n",
       "      <td>2015</td>\n",
       "      <td>5</td>\n",
       "      <td>1</td>\n",
       "      <td>4</td>\n",
       "    </tr>\n",
       "    <tr>\n",
       "      <th>505062</th>\n",
       "      <td>33485</td>\n",
       "      <td>NE ALBERTA ST / NE 30TH AVE</td>\n",
       "      <td>15-143179</td>\n",
       "      <td>0</td>\n",
       "      <td>20</td>\n",
       "      <td>2015-05-01</td>\n",
       "      <td>1900</td>\n",
       "      <td>Larceny Offenses</td>\n",
       "      <td>All Other Larceny</td>\n",
       "      <td>45.559036</td>\n",
       "      <td>-122.634861</td>\n",
       "      <td>7655351.0</td>\n",
       "      <td>697136.0</td>\n",
       "      <td>2015-05-01</td>\n",
       "      <td>1</td>\n",
       "      <td>2015</td>\n",
       "      <td>5</td>\n",
       "      <td>1</td>\n",
       "      <td>4</td>\n",
       "    </tr>\n",
       "  </tbody>\n",
       "</table>\n",
       "<p>443813 rows × 19 columns</p>\n",
       "</div>"
      ],
      "text/plain": [
       "        Unnamed: 0                          Address CaseNumber CrimeAgainst   \n",
       "0           492134       6300 BLOCK OF N LOMBARD ST  23-917974            0  \\\n",
       "1           474760        600 BLOCK OF SE 146TH AVE  23-200198            0   \n",
       "2           475814         700 BLOCK OF SW 10TH AVE  23-917935            0   \n",
       "3           499387    14000 BLOCK OF NE AIRPORT WAY  23-917921            0   \n",
       "4           475599          700 BLOCK OF SW 5TH AVE  23-200558            1   \n",
       "...            ...                              ...        ...          ...   \n",
       "505058       22964  5400 BLOCK OF SW VIEW POINT TER  15-654432            0   \n",
       "505059       37651       W BURNSIDE ST / SW 5TH AVE  15-143681            0   \n",
       "505060        6189        400 BLOCK OF SW SALMON ST  15-140697            0   \n",
       "505061       13877         1900 BLOCK OF SE 6TH AVE  15-654389            0   \n",
       "505062       33485      NE ALBERTA ST / NE 30TH AVE  15-143179            0   \n",
       "\n",
       "       Neighborhood  OccurDate  OccurTime      OffenseCategory   \n",
       "0                 0 2023-07-31       1926     Larceny Offenses  \\\n",
       "1                 1 2023-07-31        555  Motor Vehicle Theft   \n",
       "2                 2 2023-07-31       1110     Larceny Offenses   \n",
       "3                94 2023-07-31        900     Larceny Offenses   \n",
       "4                 2 2023-07-31       1601     Assault Offenses   \n",
       "...             ...        ...        ...                  ...   \n",
       "505058           12 2015-05-01       2200     Larceny Offenses   \n",
       "505059            2 2015-05-01       1600            Vandalism   \n",
       "505060            2 2015-05-01       1600            Vandalism   \n",
       "505061           24 2015-05-01       1255            Vandalism   \n",
       "505062           20 2015-05-01       1900     Larceny Offenses   \n",
       "\n",
       "                                        OffenseType  OpenDataLat  OpenDataLon   \n",
       "0                                       Shoplifting    45.585250  -122.731728  \\\n",
       "1                               Motor Vehicle Theft    45.517729  -122.513341   \n",
       "2                          Theft From Motor Vehicle    45.519658  -122.682225   \n",
       "3       Theft of Motor Vehicle Parts or Accessories    45.561735  -122.518390   \n",
       "4                                    Simple Assault    45.518452  -122.677706   \n",
       "...                                             ...          ...          ...   \n",
       "505058                     Theft From Motor Vehicle    45.484172  -122.677847   \n",
       "505059                                    Vandalism    45.523080  -122.675409   \n",
       "505060                                    Vandalism    45.516624  -122.678174   \n",
       "505061                                    Vandalism    45.509024  -122.659847   \n",
       "505062                            All Other Larceny    45.559036  -122.634861   \n",
       "\n",
       "        OpenDataX  OpenDataY  ReportDate  OffenseCount  Year  Month  Day   \n",
       "0       7630813.0   707361.0  2023-07-31             1  2023      7   31  \\\n",
       "1       7686091.0   681281.0  2023-07-31             1  2023      7   31   \n",
       "2       7642836.0   683108.0  2023-07-31             1  2023      7   31   \n",
       "3       7685198.0   697353.0  2023-07-31             1  2023      7   31   \n",
       "4       7643982.0   682637.0  2023-07-31             1  2023      7   31   \n",
       "...           ...        ...         ...           ...   ...    ...  ...   \n",
       "505058  7643609.0   670144.0  2015-05-01             1  2015      5    1   \n",
       "505059  7644616.0   684308.0  2015-05-01             1  2015      5    1   \n",
       "505060  7643844.0   681974.0  2015-05-01             1  2015      5    1   \n",
       "505061  7648466.0   679078.0  2015-05-01             1  2015      5    1   \n",
       "505062  7655351.0   697136.0  2015-05-01             1  2015      5    1   \n",
       "\n",
       "       dayOfWeek  \n",
       "0              0  \n",
       "1              0  \n",
       "2              0  \n",
       "3              0  \n",
       "4              0  \n",
       "...          ...  \n",
       "505058         4  \n",
       "505059         4  \n",
       "505060         4  \n",
       "505061         4  \n",
       "505062         4  \n",
       "\n",
       "[443813 rows x 19 columns]"
      ]
     },
     "execution_count": 38,
     "metadata": {},
     "output_type": "execute_result"
    }
   ],
   "source": [
    "df"
   ]
  },
  {
   "cell_type": "code",
   "execution_count": 39,
   "metadata": {
    "execution": {
     "iopub.execute_input": "2023-11-14T12:14:11.992207Z",
     "iopub.status.busy": "2023-11-14T12:14:11.991796Z",
     "iopub.status.idle": "2023-11-14T12:14:12.482940Z",
     "shell.execute_reply": "2023-11-14T12:14:12.481930Z",
     "shell.execute_reply.started": "2023-11-14T12:14:11.992161Z"
    },
    "trusted": true
   },
   "outputs": [],
   "source": [
    "z = df [['Year','Month','Day','dayOfWeek','CrimeAgainst','Neighborhood','OpenDataLat','OpenDataLon']]"
   ]
  },
  {
   "cell_type": "code",
   "execution_count": 40,
   "metadata": {
    "execution": {
     "iopub.execute_input": "2023-11-14T12:14:13.412127Z",
     "iopub.status.busy": "2023-11-14T12:14:13.411753Z",
     "iopub.status.idle": "2023-11-14T12:14:13.416470Z",
     "shell.execute_reply": "2023-11-14T12:14:13.415354Z",
     "shell.execute_reply.started": "2023-11-14T12:14:13.412097Z"
    },
    "trusted": true
   },
   "outputs": [],
   "source": [
    "# ss = pd.DataFrame(z)\n",
    "# ss.to_csv (r'C:/Users/Admin/Desktop/New folder (8)/crime types/uploads.csv', index = False, header=True)"
   ]
  },
  {
   "cell_type": "code",
   "execution_count": 41,
   "metadata": {},
   "outputs": [
    {
     "name": "stderr",
     "output_type": "stream",
     "text": [
      "C:\\Users\\JAGANNATH\\AppData\\Local\\Temp\\ipykernel_11620\\602846333.py:1: SettingWithCopyWarning: \n",
      "A value is trying to be set on a copy of a slice from a DataFrame.\n",
      "Try using .loc[row_indexer,col_indexer] = value instead\n",
      "\n",
      "See the caveats in the documentation: https://pandas.pydata.org/pandas-docs/stable/user_guide/indexing.html#returning-a-view-versus-a-copy\n",
      "  df['dayOfWeek'] = pd.to_numeric(df['dayOfWeek'])\n",
      "C:\\Users\\JAGANNATH\\AppData\\Local\\Temp\\ipykernel_11620\\602846333.py:2: SettingWithCopyWarning: \n",
      "A value is trying to be set on a copy of a slice from a DataFrame.\n",
      "Try using .loc[row_indexer,col_indexer] = value instead\n",
      "\n",
      "See the caveats in the documentation: https://pandas.pydata.org/pandas-docs/stable/user_guide/indexing.html#returning-a-view-versus-a-copy\n",
      "  df['Neighborhood'] = pd.to_numeric(df['Neighborhood'])\n"
     ]
    }
   ],
   "source": [
    "df['dayOfWeek'] = pd.to_numeric(df['dayOfWeek'])\n",
    "df['Neighborhood'] = pd.to_numeric(df['Neighborhood'])\n",
    "\n"
   ]
  },
  {
   "cell_type": "code",
   "execution_count": 42,
   "metadata": {},
   "outputs": [
    {
     "name": "stderr",
     "output_type": "stream",
     "text": [
      "C:\\Users\\JAGANNATH\\AppData\\Local\\Temp\\ipykernel_11620\\3685645805.py:1: SettingWithCopyWarning: \n",
      "A value is trying to be set on a copy of a slice from a DataFrame.\n",
      "Try using .loc[row_indexer,col_indexer] = value instead\n",
      "\n",
      "See the caveats in the documentation: https://pandas.pydata.org/pandas-docs/stable/user_guide/indexing.html#returning-a-view-versus-a-copy\n",
      "  df['CrimeAgainst'] = pd.to_numeric(df['CrimeAgainst'])\n"
     ]
    }
   ],
   "source": [
    "df['CrimeAgainst'] = pd.to_numeric(df['CrimeAgainst'])\n"
   ]
  },
  {
   "cell_type": "code",
   "execution_count": 43,
   "metadata": {
    "execution": {
     "iopub.execute_input": "2023-11-14T12:14:14.149766Z",
     "iopub.status.busy": "2023-11-14T12:14:14.149174Z",
     "iopub.status.idle": "2023-11-14T12:14:14.428313Z",
     "shell.execute_reply": "2023-11-14T12:14:14.427129Z",
     "shell.execute_reply.started": "2023-11-14T12:14:14.149734Z"
    },
    "trusted": true
   },
   "outputs": [],
   "source": [
    "x = df [['Year','Month','Day','dayOfWeek','CrimeAgainst','Neighborhood','OpenDataLat','OpenDataLon']]"
   ]
  },
  {
   "cell_type": "code",
   "execution_count": 44,
   "metadata": {},
   "outputs": [
    {
     "name": "stdout",
     "output_type": "stream",
     "text": [
      "<class 'pandas.core.frame.DataFrame'>\n",
      "Index: 443813 entries, 0 to 505062\n",
      "Data columns (total 8 columns):\n",
      " #   Column        Non-Null Count   Dtype  \n",
      "---  ------        --------------   -----  \n",
      " 0   Year          443813 non-null  int32  \n",
      " 1   Month         443813 non-null  int32  \n",
      " 2   Day           443813 non-null  int32  \n",
      " 3   dayOfWeek     443813 non-null  int64  \n",
      " 4   CrimeAgainst  443813 non-null  int64  \n",
      " 5   Neighborhood  443813 non-null  int64  \n",
      " 6   OpenDataLat   443813 non-null  float64\n",
      " 7   OpenDataLon   443813 non-null  float64\n",
      "dtypes: float64(2), int32(3), int64(3)\n",
      "memory usage: 25.4 MB\n"
     ]
    }
   ],
   "source": [
    "x.info()"
   ]
  },
  {
   "cell_type": "code",
   "execution_count": 45,
   "metadata": {
    "execution": {
     "iopub.execute_input": "2023-11-14T12:14:18.252334Z",
     "iopub.status.busy": "2023-11-14T12:14:18.251511Z",
     "iopub.status.idle": "2023-11-14T12:14:18.270641Z",
     "shell.execute_reply": "2023-11-14T12:14:18.269375Z",
     "shell.execute_reply.started": "2023-11-14T12:14:18.252298Z"
    },
    "trusted": true
   },
   "outputs": [
    {
     "data": {
      "text/html": [
       "<div>\n",
       "<style scoped>\n",
       "    .dataframe tbody tr th:only-of-type {\n",
       "        vertical-align: middle;\n",
       "    }\n",
       "\n",
       "    .dataframe tbody tr th {\n",
       "        vertical-align: top;\n",
       "    }\n",
       "\n",
       "    .dataframe thead th {\n",
       "        text-align: right;\n",
       "    }\n",
       "</style>\n",
       "<table border=\"1\" class=\"dataframe\">\n",
       "  <thead>\n",
       "    <tr style=\"text-align: right;\">\n",
       "      <th></th>\n",
       "      <th>Year</th>\n",
       "      <th>Month</th>\n",
       "      <th>Day</th>\n",
       "      <th>dayOfWeek</th>\n",
       "      <th>CrimeAgainst</th>\n",
       "      <th>Neighborhood</th>\n",
       "      <th>OpenDataLat</th>\n",
       "      <th>OpenDataLon</th>\n",
       "    </tr>\n",
       "  </thead>\n",
       "  <tbody>\n",
       "    <tr>\n",
       "      <th>0</th>\n",
       "      <td>2023</td>\n",
       "      <td>7</td>\n",
       "      <td>31</td>\n",
       "      <td>0</td>\n",
       "      <td>0</td>\n",
       "      <td>0</td>\n",
       "      <td>45.585250</td>\n",
       "      <td>-122.731728</td>\n",
       "    </tr>\n",
       "    <tr>\n",
       "      <th>1</th>\n",
       "      <td>2023</td>\n",
       "      <td>7</td>\n",
       "      <td>31</td>\n",
       "      <td>0</td>\n",
       "      <td>0</td>\n",
       "      <td>1</td>\n",
       "      <td>45.517729</td>\n",
       "      <td>-122.513341</td>\n",
       "    </tr>\n",
       "    <tr>\n",
       "      <th>2</th>\n",
       "      <td>2023</td>\n",
       "      <td>7</td>\n",
       "      <td>31</td>\n",
       "      <td>0</td>\n",
       "      <td>0</td>\n",
       "      <td>2</td>\n",
       "      <td>45.519658</td>\n",
       "      <td>-122.682225</td>\n",
       "    </tr>\n",
       "    <tr>\n",
       "      <th>3</th>\n",
       "      <td>2023</td>\n",
       "      <td>7</td>\n",
       "      <td>31</td>\n",
       "      <td>0</td>\n",
       "      <td>0</td>\n",
       "      <td>94</td>\n",
       "      <td>45.561735</td>\n",
       "      <td>-122.518390</td>\n",
       "    </tr>\n",
       "    <tr>\n",
       "      <th>4</th>\n",
       "      <td>2023</td>\n",
       "      <td>7</td>\n",
       "      <td>31</td>\n",
       "      <td>0</td>\n",
       "      <td>1</td>\n",
       "      <td>2</td>\n",
       "      <td>45.518452</td>\n",
       "      <td>-122.677706</td>\n",
       "    </tr>\n",
       "    <tr>\n",
       "      <th>...</th>\n",
       "      <td>...</td>\n",
       "      <td>...</td>\n",
       "      <td>...</td>\n",
       "      <td>...</td>\n",
       "      <td>...</td>\n",
       "      <td>...</td>\n",
       "      <td>...</td>\n",
       "      <td>...</td>\n",
       "    </tr>\n",
       "    <tr>\n",
       "      <th>505058</th>\n",
       "      <td>2015</td>\n",
       "      <td>5</td>\n",
       "      <td>1</td>\n",
       "      <td>4</td>\n",
       "      <td>0</td>\n",
       "      <td>12</td>\n",
       "      <td>45.484172</td>\n",
       "      <td>-122.677847</td>\n",
       "    </tr>\n",
       "    <tr>\n",
       "      <th>505059</th>\n",
       "      <td>2015</td>\n",
       "      <td>5</td>\n",
       "      <td>1</td>\n",
       "      <td>4</td>\n",
       "      <td>0</td>\n",
       "      <td>2</td>\n",
       "      <td>45.523080</td>\n",
       "      <td>-122.675409</td>\n",
       "    </tr>\n",
       "    <tr>\n",
       "      <th>505060</th>\n",
       "      <td>2015</td>\n",
       "      <td>5</td>\n",
       "      <td>1</td>\n",
       "      <td>4</td>\n",
       "      <td>0</td>\n",
       "      <td>2</td>\n",
       "      <td>45.516624</td>\n",
       "      <td>-122.678174</td>\n",
       "    </tr>\n",
       "    <tr>\n",
       "      <th>505061</th>\n",
       "      <td>2015</td>\n",
       "      <td>5</td>\n",
       "      <td>1</td>\n",
       "      <td>4</td>\n",
       "      <td>0</td>\n",
       "      <td>24</td>\n",
       "      <td>45.509024</td>\n",
       "      <td>-122.659847</td>\n",
       "    </tr>\n",
       "    <tr>\n",
       "      <th>505062</th>\n",
       "      <td>2015</td>\n",
       "      <td>5</td>\n",
       "      <td>1</td>\n",
       "      <td>4</td>\n",
       "      <td>0</td>\n",
       "      <td>20</td>\n",
       "      <td>45.559036</td>\n",
       "      <td>-122.634861</td>\n",
       "    </tr>\n",
       "  </tbody>\n",
       "</table>\n",
       "<p>443813 rows × 8 columns</p>\n",
       "</div>"
      ],
      "text/plain": [
       "        Year  Month  Day  dayOfWeek  CrimeAgainst  Neighborhood  OpenDataLat   \n",
       "0       2023      7   31          0             0             0    45.585250  \\\n",
       "1       2023      7   31          0             0             1    45.517729   \n",
       "2       2023      7   31          0             0             2    45.519658   \n",
       "3       2023      7   31          0             0            94    45.561735   \n",
       "4       2023      7   31          0             1             2    45.518452   \n",
       "...      ...    ...  ...        ...           ...           ...          ...   \n",
       "505058  2015      5    1          4             0            12    45.484172   \n",
       "505059  2015      5    1          4             0             2    45.523080   \n",
       "505060  2015      5    1          4             0             2    45.516624   \n",
       "505061  2015      5    1          4             0            24    45.509024   \n",
       "505062  2015      5    1          4             0            20    45.559036   \n",
       "\n",
       "        OpenDataLon  \n",
       "0       -122.731728  \n",
       "1       -122.513341  \n",
       "2       -122.682225  \n",
       "3       -122.518390  \n",
       "4       -122.677706  \n",
       "...             ...  \n",
       "505058  -122.677847  \n",
       "505059  -122.675409  \n",
       "505060  -122.678174  \n",
       "505061  -122.659847  \n",
       "505062  -122.634861  \n",
       "\n",
       "[443813 rows x 8 columns]"
      ]
     },
     "execution_count": 45,
     "metadata": {},
     "output_type": "execute_result"
    }
   ],
   "source": [
    "x"
   ]
  },
  {
   "cell_type": "code",
   "execution_count": 46,
   "metadata": {
    "execution": {
     "iopub.execute_input": "2023-11-14T12:14:24.742327Z",
     "iopub.status.busy": "2023-11-14T12:14:24.741955Z",
     "iopub.status.idle": "2023-11-14T12:14:24.747467Z",
     "shell.execute_reply": "2023-11-14T12:14:24.746121Z",
     "shell.execute_reply.started": "2023-11-14T12:14:24.742298Z"
    },
    "trusted": true
   },
   "outputs": [],
   "source": [
    "y =df['OffenseCategory']"
   ]
  },
  {
   "cell_type": "code",
   "execution_count": 54,
   "metadata": {
    "execution": {
     "iopub.execute_input": "2023-11-14T12:14:26.321836Z",
     "iopub.status.busy": "2023-11-14T12:14:26.321464Z",
     "iopub.status.idle": "2023-11-14T12:17:14.097043Z",
     "shell.execute_reply": "2023-11-14T12:17:14.094889Z",
     "shell.execute_reply.started": "2023-11-14T12:14:26.321808Z"
    },
    "trusted": true
   },
   "outputs": [
    {
     "ename": "ImportError",
     "evalue": "numpy._core.multiarray failed to import",
     "output_type": "error",
     "traceback": [
      "\u001b[1;31m---------------------------------------------------------------------------\u001b[0m",
      "\u001b[1;31mImportError\u001b[0m                               Traceback (most recent call last)",
      "File \u001b[1;32mc:\\Users\\JAGANNATH\\AppData\\Local\\Programs\\Python\\Python310\\lib\\site-packages\\numpy\\_core\\__init__.py:23\u001b[0m\n\u001b[0;32m     22\u001b[0m \u001b[38;5;28;01mtry\u001b[39;00m:\n\u001b[1;32m---> 23\u001b[0m     \u001b[38;5;28;01mfrom\u001b[39;00m\u001b[38;5;250m \u001b[39m\u001b[38;5;21;01m.\u001b[39;00m\u001b[38;5;250m \u001b[39m\u001b[38;5;28;01mimport\u001b[39;00m multiarray\n\u001b[0;32m     24\u001b[0m \u001b[38;5;28;01mexcept\u001b[39;00m \u001b[38;5;167;01mImportError\u001b[39;00m \u001b[38;5;28;01mas\u001b[39;00m exc:\n",
      "File \u001b[1;32mc:\\Users\\JAGANNATH\\AppData\\Local\\Programs\\Python\\Python310\\lib\\site-packages\\numpy\\_core\\multiarray.py:10\u001b[0m\n\u001b[0;32m      9\u001b[0m \u001b[38;5;28;01mimport\u001b[39;00m\u001b[38;5;250m \u001b[39m\u001b[38;5;21;01mfunctools\u001b[39;00m\n\u001b[1;32m---> 10\u001b[0m \u001b[38;5;28;01mfrom\u001b[39;00m\u001b[38;5;250m \u001b[39m\u001b[38;5;21;01m.\u001b[39;00m\u001b[38;5;250m \u001b[39m\u001b[38;5;28;01mimport\u001b[39;00m overrides\n\u001b[0;32m     11\u001b[0m \u001b[38;5;28;01mfrom\u001b[39;00m\u001b[38;5;250m \u001b[39m\u001b[38;5;21;01m.\u001b[39;00m\u001b[38;5;250m \u001b[39m\u001b[38;5;28;01mimport\u001b[39;00m _multiarray_umath\n",
      "File \u001b[1;32mc:\\Users\\JAGANNATH\\AppData\\Local\\Programs\\Python\\Python310\\lib\\site-packages\\numpy\\_core\\overrides.py:7\u001b[0m\n\u001b[0;32m      6\u001b[0m \u001b[38;5;28;01mfrom\u001b[39;00m\u001b[38;5;250m \u001b[39m\u001b[38;5;21;01m.\u001b[39;00m\u001b[38;5;21;01m.\u001b[39;00m\u001b[38;5;21;01m_utils\u001b[39;00m\u001b[38;5;21;01m.\u001b[39;00m\u001b[38;5;21;01m_inspect\u001b[39;00m\u001b[38;5;250m \u001b[39m\u001b[38;5;28;01mimport\u001b[39;00m getargspec\n\u001b[1;32m----> 7\u001b[0m \u001b[38;5;28;01mfrom\u001b[39;00m\u001b[38;5;250m \u001b[39m\u001b[38;5;21;01mnumpy\u001b[39;00m\u001b[38;5;21;01m.\u001b[39;00m\u001b[38;5;21;01m_core\u001b[39;00m\u001b[38;5;21;01m.\u001b[39;00m\u001b[38;5;21;01m_multiarray_umath\u001b[39;00m\u001b[38;5;250m \u001b[39m\u001b[38;5;28;01mimport\u001b[39;00m (\n\u001b[0;32m      8\u001b[0m     add_docstring,  _get_implementing_args, _ArrayFunctionDispatcher)\n\u001b[0;32m     11\u001b[0m ARRAY_FUNCTIONS \u001b[38;5;241m=\u001b[39m \u001b[38;5;28mset\u001b[39m()\n",
      "\u001b[1;31mImportError\u001b[0m: DLL load failed while importing _multiarray_umath: The specified module could not be found.",
      "\nDuring handling of the above exception, another exception occurred:\n",
      "\u001b[1;31mImportError\u001b[0m                               Traceback (most recent call last)",
      "File \u001b[1;32m__init__.cython-30.pxd:1041\u001b[0m, in \u001b[0;36mnumpy.import_array\u001b[1;34m()\u001b[0m\n",
      "File \u001b[1;32mc:\\Users\\JAGANNATH\\AppData\\Local\\Programs\\Python\\Python310\\lib\\site-packages\\numpy\\_core\\__init__.py:49\u001b[0m\n\u001b[0;32m     26\u001b[0m     msg \u001b[38;5;241m=\u001b[39m \u001b[38;5;124m\"\"\"\u001b[39m\n\u001b[0;32m     27\u001b[0m \n\u001b[0;32m     28\u001b[0m \u001b[38;5;124mIMPORTANT: PLEASE READ THIS FOR ADVICE ON HOW TO SOLVE THIS ISSUE!\u001b[39m\n\u001b[1;32m   (...)\u001b[0m\n\u001b[0;32m     47\u001b[0m \u001b[38;5;124m\"\"\"\u001b[39m \u001b[38;5;241m%\u001b[39m (sys\u001b[38;5;241m.\u001b[39mversion_info[\u001b[38;5;241m0\u001b[39m], sys\u001b[38;5;241m.\u001b[39mversion_info[\u001b[38;5;241m1\u001b[39m], sys\u001b[38;5;241m.\u001b[39mexecutable,\n\u001b[0;32m     48\u001b[0m         __version__, exc)\n\u001b[1;32m---> 49\u001b[0m     \u001b[38;5;28;01mraise\u001b[39;00m \u001b[38;5;167;01mImportError\u001b[39;00m(msg)\n\u001b[0;32m     50\u001b[0m \u001b[38;5;28;01mfinally\u001b[39;00m:\n",
      "\u001b[1;31mImportError\u001b[0m: \n\nIMPORTANT: PLEASE READ THIS FOR ADVICE ON HOW TO SOLVE THIS ISSUE!\n\nImporting the numpy C-extensions failed. This error can happen for\nmany reasons, often due to issues with your setup or how NumPy was\ninstalled.\n\nWe have compiled some common reasons and troubleshooting tips at:\n\n    https://numpy.org/devdocs/user/troubleshooting-importerror.html\n\nPlease note and check the following:\n\n  * The Python version is: Python3.10 from \"c:\\Users\\JAGANNATH\\AppData\\Local\\Programs\\Python\\Python310\\python.exe\"\n  * The NumPy version is: \"1.23.5\"\n\nand make sure that they are the versions you expect.\nPlease carefully study the documentation linked above for further help.\n\nOriginal error was: DLL load failed while importing _multiarray_umath: The specified module could not be found.\n",
      "\nDuring handling of the above exception, another exception occurred:\n",
      "\u001b[1;31mImportError\u001b[0m                               Traceback (most recent call last)",
      "Cell \u001b[1;32mIn[54], line 1\u001b[0m\n\u001b[1;32m----> 1\u001b[0m \u001b[38;5;28;01mfrom\u001b[39;00m\u001b[38;5;250m \u001b[39m\u001b[38;5;21;01mimblearn\u001b[39;00m\u001b[38;5;21;01m.\u001b[39;00m\u001b[38;5;21;01mover_sampling\u001b[39;00m\u001b[38;5;250m \u001b[39m\u001b[38;5;28;01mimport\u001b[39;00m RandomOverSampler\n\u001b[0;32m      2\u001b[0m ro\u001b[38;5;241m=\u001b[39mRandomOverSampler()\n\u001b[0;32m      3\u001b[0m x_data,y_data\u001b[38;5;241m=\u001b[39mro\u001b[38;5;241m.\u001b[39mfit_resample(x,y)\n",
      "File \u001b[1;32mc:\\Users\\JAGANNATH\\AppData\\Local\\Programs\\Python\\Python310\\lib\\site-packages\\imblearn\\__init__.py:52\u001b[0m\n\u001b[0;32m     48\u001b[0m     sys\u001b[38;5;241m.\u001b[39mstderr\u001b[38;5;241m.\u001b[39mwrite(\u001b[38;5;124m\"\u001b[39m\u001b[38;5;124mPartial import of imblearn during the build process.\u001b[39m\u001b[38;5;130;01m\\n\u001b[39;00m\u001b[38;5;124m\"\u001b[39m)\n\u001b[0;32m     49\u001b[0m     \u001b[38;5;66;03m# We are not importing the rest of scikit-learn during the build\u001b[39;00m\n\u001b[0;32m     50\u001b[0m     \u001b[38;5;66;03m# process, as it may not be compiled yet\u001b[39;00m\n\u001b[0;32m     51\u001b[0m \u001b[38;5;28;01melse\u001b[39;00m:\n\u001b[1;32m---> 52\u001b[0m     \u001b[38;5;28;01mfrom\u001b[39;00m\u001b[38;5;250m \u001b[39m\u001b[38;5;21;01m.\u001b[39;00m\u001b[38;5;250m \u001b[39m\u001b[38;5;28;01mimport\u001b[39;00m (\n\u001b[0;32m     53\u001b[0m         combine,\n\u001b[0;32m     54\u001b[0m         ensemble,\n\u001b[0;32m     55\u001b[0m         exceptions,\n\u001b[0;32m     56\u001b[0m         metrics,\n\u001b[0;32m     57\u001b[0m         over_sampling,\n\u001b[0;32m     58\u001b[0m         pipeline,\n\u001b[0;32m     59\u001b[0m         tensorflow,\n\u001b[0;32m     60\u001b[0m         under_sampling,\n\u001b[0;32m     61\u001b[0m         utils,\n\u001b[0;32m     62\u001b[0m     )\n\u001b[0;32m     63\u001b[0m     \u001b[38;5;28;01mfrom\u001b[39;00m\u001b[38;5;250m \u001b[39m\u001b[38;5;21;01m.\u001b[39;00m\u001b[38;5;21;01m_version\u001b[39;00m\u001b[38;5;250m \u001b[39m\u001b[38;5;28;01mimport\u001b[39;00m __version__\n\u001b[0;32m     64\u001b[0m     \u001b[38;5;28;01mfrom\u001b[39;00m\u001b[38;5;250m \u001b[39m\u001b[38;5;21;01m.\u001b[39;00m\u001b[38;5;21;01mbase\u001b[39;00m\u001b[38;5;250m \u001b[39m\u001b[38;5;28;01mimport\u001b[39;00m FunctionSampler\n",
      "File \u001b[1;32mc:\\Users\\JAGANNATH\\AppData\\Local\\Programs\\Python\\Python310\\lib\\site-packages\\imblearn\\combine\\__init__.py:5\u001b[0m\n\u001b[0;32m      1\u001b[0m \u001b[38;5;124;03m\"\"\"The :mod:`imblearn.combine` provides methods which combine\u001b[39;00m\n\u001b[0;32m      2\u001b[0m \u001b[38;5;124;03mover-sampling and under-sampling.\u001b[39;00m\n\u001b[0;32m      3\u001b[0m \u001b[38;5;124;03m\"\"\"\u001b[39;00m\n\u001b[1;32m----> 5\u001b[0m \u001b[38;5;28;01mfrom\u001b[39;00m\u001b[38;5;250m \u001b[39m\u001b[38;5;21;01m.\u001b[39;00m\u001b[38;5;21;01m_smote_enn\u001b[39;00m\u001b[38;5;250m \u001b[39m\u001b[38;5;28;01mimport\u001b[39;00m SMOTEENN\n\u001b[0;32m      6\u001b[0m \u001b[38;5;28;01mfrom\u001b[39;00m\u001b[38;5;250m \u001b[39m\u001b[38;5;21;01m.\u001b[39;00m\u001b[38;5;21;01m_smote_tomek\u001b[39;00m\u001b[38;5;250m \u001b[39m\u001b[38;5;28;01mimport\u001b[39;00m SMOTETomek\n\u001b[0;32m      8\u001b[0m __all__ \u001b[38;5;241m=\u001b[39m [\u001b[38;5;124m\"\u001b[39m\u001b[38;5;124mSMOTEENN\u001b[39m\u001b[38;5;124m\"\u001b[39m, \u001b[38;5;124m\"\u001b[39m\u001b[38;5;124mSMOTETomek\u001b[39m\u001b[38;5;124m\"\u001b[39m]\n",
      "File \u001b[1;32mc:\\Users\\JAGANNATH\\AppData\\Local\\Programs\\Python\\Python310\\lib\\site-packages\\imblearn\\combine\\_smote_enn.py:12\u001b[0m\n\u001b[0;32m      9\u001b[0m \u001b[38;5;28;01mfrom\u001b[39;00m\u001b[38;5;250m \u001b[39m\u001b[38;5;21;01msklearn\u001b[39;00m\u001b[38;5;21;01m.\u001b[39;00m\u001b[38;5;21;01mbase\u001b[39;00m\u001b[38;5;250m \u001b[39m\u001b[38;5;28;01mimport\u001b[39;00m clone\n\u001b[0;32m     10\u001b[0m \u001b[38;5;28;01mfrom\u001b[39;00m\u001b[38;5;250m \u001b[39m\u001b[38;5;21;01msklearn\u001b[39;00m\u001b[38;5;21;01m.\u001b[39;00m\u001b[38;5;21;01mutils\u001b[39;00m\u001b[38;5;250m \u001b[39m\u001b[38;5;28;01mimport\u001b[39;00m check_X_y\n\u001b[1;32m---> 12\u001b[0m \u001b[38;5;28;01mfrom\u001b[39;00m\u001b[38;5;250m \u001b[39m\u001b[38;5;21;01m.\u001b[39;00m\u001b[38;5;21;01m.\u001b[39;00m\u001b[38;5;21;01mbase\u001b[39;00m\u001b[38;5;250m \u001b[39m\u001b[38;5;28;01mimport\u001b[39;00m BaseSampler\n\u001b[0;32m     13\u001b[0m \u001b[38;5;28;01mfrom\u001b[39;00m\u001b[38;5;250m \u001b[39m\u001b[38;5;21;01m.\u001b[39;00m\u001b[38;5;21;01m.\u001b[39;00m\u001b[38;5;21;01mover_sampling\u001b[39;00m\u001b[38;5;250m \u001b[39m\u001b[38;5;28;01mimport\u001b[39;00m SMOTE\n\u001b[0;32m     14\u001b[0m \u001b[38;5;28;01mfrom\u001b[39;00m\u001b[38;5;250m \u001b[39m\u001b[38;5;21;01m.\u001b[39;00m\u001b[38;5;21;01m.\u001b[39;00m\u001b[38;5;21;01mover_sampling\u001b[39;00m\u001b[38;5;21;01m.\u001b[39;00m\u001b[38;5;21;01mbase\u001b[39;00m\u001b[38;5;250m \u001b[39m\u001b[38;5;28;01mimport\u001b[39;00m BaseOverSampler\n",
      "File \u001b[1;32mc:\\Users\\JAGANNATH\\AppData\\Local\\Programs\\Python\\Python310\\lib\\site-packages\\imblearn\\base.py:15\u001b[0m\n\u001b[0;32m     12\u001b[0m \u001b[38;5;28;01mfrom\u001b[39;00m\u001b[38;5;250m \u001b[39m\u001b[38;5;21;01msklearn\u001b[39;00m\u001b[38;5;21;01m.\u001b[39;00m\u001b[38;5;21;01mutils\u001b[39;00m\u001b[38;5;21;01m.\u001b[39;00m\u001b[38;5;21;01m_metadata_requests\u001b[39;00m\u001b[38;5;250m \u001b[39m\u001b[38;5;28;01mimport\u001b[39;00m METHODS\n\u001b[0;32m     13\u001b[0m \u001b[38;5;28;01mfrom\u001b[39;00m\u001b[38;5;250m \u001b[39m\u001b[38;5;21;01msklearn\u001b[39;00m\u001b[38;5;21;01m.\u001b[39;00m\u001b[38;5;21;01mutils\u001b[39;00m\u001b[38;5;21;01m.\u001b[39;00m\u001b[38;5;21;01mmulticlass\u001b[39;00m\u001b[38;5;250m \u001b[39m\u001b[38;5;28;01mimport\u001b[39;00m check_classification_targets\n\u001b[1;32m---> 15\u001b[0m \u001b[38;5;28;01mfrom\u001b[39;00m\u001b[38;5;250m \u001b[39m\u001b[38;5;21;01m.\u001b[39;00m\u001b[38;5;21;01mutils\u001b[39;00m\u001b[38;5;250m \u001b[39m\u001b[38;5;28;01mimport\u001b[39;00m check_sampling_strategy, check_target_type\n\u001b[0;32m     16\u001b[0m \u001b[38;5;28;01mfrom\u001b[39;00m\u001b[38;5;250m \u001b[39m\u001b[38;5;21;01m.\u001b[39;00m\u001b[38;5;21;01mutils\u001b[39;00m\u001b[38;5;21;01m.\u001b[39;00m\u001b[38;5;21;01m_sklearn_compat\u001b[39;00m\u001b[38;5;250m \u001b[39m\u001b[38;5;28;01mimport\u001b[39;00m _fit_context, get_tags, validate_data\n\u001b[0;32m     17\u001b[0m \u001b[38;5;28;01mfrom\u001b[39;00m\u001b[38;5;250m \u001b[39m\u001b[38;5;21;01m.\u001b[39;00m\u001b[38;5;21;01mutils\u001b[39;00m\u001b[38;5;21;01m.\u001b[39;00m\u001b[38;5;21;01m_validation\u001b[39;00m\u001b[38;5;250m \u001b[39m\u001b[38;5;28;01mimport\u001b[39;00m ArraysTransformer\n",
      "File \u001b[1;32mc:\\Users\\JAGANNATH\\AppData\\Local\\Programs\\Python\\Python310\\lib\\site-packages\\imblearn\\utils\\__init__.py:6\u001b[0m\n\u001b[0;32m      1\u001b[0m \u001b[38;5;124;03m\"\"\"\u001b[39;00m\n\u001b[0;32m      2\u001b[0m \u001b[38;5;124;03mThe :mod:`imblearn.utils` module includes various utilities.\u001b[39;00m\n\u001b[0;32m      3\u001b[0m \u001b[38;5;124;03m\"\"\"\u001b[39;00m\n\u001b[0;32m      5\u001b[0m \u001b[38;5;28;01mfrom\u001b[39;00m\u001b[38;5;250m \u001b[39m\u001b[38;5;21;01m.\u001b[39;00m\u001b[38;5;21;01m_docstring\u001b[39;00m\u001b[38;5;250m \u001b[39m\u001b[38;5;28;01mimport\u001b[39;00m Substitution\n\u001b[1;32m----> 6\u001b[0m \u001b[38;5;28;01mfrom\u001b[39;00m\u001b[38;5;250m \u001b[39m\u001b[38;5;21;01m.\u001b[39;00m\u001b[38;5;21;01m_validation\u001b[39;00m\u001b[38;5;250m \u001b[39m\u001b[38;5;28;01mimport\u001b[39;00m (\n\u001b[0;32m      7\u001b[0m     check_neighbors_object,\n\u001b[0;32m      8\u001b[0m     check_sampling_strategy,\n\u001b[0;32m      9\u001b[0m     check_target_type,\n\u001b[0;32m     10\u001b[0m )\n\u001b[0;32m     12\u001b[0m __all__ \u001b[38;5;241m=\u001b[39m [\n\u001b[0;32m     13\u001b[0m     \u001b[38;5;124m\"\u001b[39m\u001b[38;5;124mcheck_neighbors_object\u001b[39m\u001b[38;5;124m\"\u001b[39m,\n\u001b[0;32m     14\u001b[0m     \u001b[38;5;124m\"\u001b[39m\u001b[38;5;124mcheck_sampling_strategy\u001b[39m\u001b[38;5;124m\"\u001b[39m,\n\u001b[0;32m     15\u001b[0m     \u001b[38;5;124m\"\u001b[39m\u001b[38;5;124mcheck_target_type\u001b[39m\u001b[38;5;124m\"\u001b[39m,\n\u001b[0;32m     16\u001b[0m     \u001b[38;5;124m\"\u001b[39m\u001b[38;5;124mSubstitution\u001b[39m\u001b[38;5;124m\"\u001b[39m,\n\u001b[0;32m     17\u001b[0m ]\n",
      "File \u001b[1;32mc:\\Users\\JAGANNATH\\AppData\\Local\\Programs\\Python\\Python310\\lib\\site-packages\\imblearn\\utils\\_validation.py:15\u001b[0m\n\u001b[0;32m     13\u001b[0m \u001b[38;5;28;01mfrom\u001b[39;00m\u001b[38;5;250m \u001b[39m\u001b[38;5;21;01mscipy\u001b[39;00m\u001b[38;5;21;01m.\u001b[39;00m\u001b[38;5;21;01msparse\u001b[39;00m\u001b[38;5;250m \u001b[39m\u001b[38;5;28;01mimport\u001b[39;00m issparse\n\u001b[0;32m     14\u001b[0m \u001b[38;5;28;01mfrom\u001b[39;00m\u001b[38;5;250m \u001b[39m\u001b[38;5;21;01msklearn\u001b[39;00m\u001b[38;5;21;01m.\u001b[39;00m\u001b[38;5;21;01mbase\u001b[39;00m\u001b[38;5;250m \u001b[39m\u001b[38;5;28;01mimport\u001b[39;00m clone\n\u001b[1;32m---> 15\u001b[0m \u001b[38;5;28;01mfrom\u001b[39;00m\u001b[38;5;250m \u001b[39m\u001b[38;5;21;01msklearn\u001b[39;00m\u001b[38;5;21;01m.\u001b[39;00m\u001b[38;5;21;01mneighbors\u001b[39;00m\u001b[38;5;250m \u001b[39m\u001b[38;5;28;01mimport\u001b[39;00m NearestNeighbors\n\u001b[0;32m     16\u001b[0m \u001b[38;5;28;01mfrom\u001b[39;00m\u001b[38;5;250m \u001b[39m\u001b[38;5;21;01msklearn\u001b[39;00m\u001b[38;5;21;01m.\u001b[39;00m\u001b[38;5;21;01mutils\u001b[39;00m\u001b[38;5;250m \u001b[39m\u001b[38;5;28;01mimport\u001b[39;00m column_or_1d\n\u001b[0;32m     17\u001b[0m \u001b[38;5;28;01mfrom\u001b[39;00m\u001b[38;5;250m \u001b[39m\u001b[38;5;21;01msklearn\u001b[39;00m\u001b[38;5;21;01m.\u001b[39;00m\u001b[38;5;21;01mutils\u001b[39;00m\u001b[38;5;21;01m.\u001b[39;00m\u001b[38;5;21;01mmulticlass\u001b[39;00m\u001b[38;5;250m \u001b[39m\u001b[38;5;28;01mimport\u001b[39;00m type_of_target\n",
      "File \u001b[1;32mc:\\Users\\JAGANNATH\\AppData\\Local\\Programs\\Python\\Python310\\lib\\site-packages\\sklearn\\neighbors\\__init__.py:6\u001b[0m\n\u001b[0;32m      1\u001b[0m \u001b[38;5;124;03m\"\"\"The k-nearest neighbors algorithms.\"\"\"\u001b[39;00m\n\u001b[0;32m      3\u001b[0m \u001b[38;5;66;03m# Authors: The scikit-learn developers\u001b[39;00m\n\u001b[0;32m      4\u001b[0m \u001b[38;5;66;03m# SPDX-License-Identifier: BSD-3-Clause\u001b[39;00m\n\u001b[1;32m----> 6\u001b[0m \u001b[38;5;28;01mfrom\u001b[39;00m\u001b[38;5;250m \u001b[39m\u001b[38;5;21;01m.\u001b[39;00m\u001b[38;5;21;01m_ball_tree\u001b[39;00m\u001b[38;5;250m \u001b[39m\u001b[38;5;28;01mimport\u001b[39;00m BallTree\n\u001b[0;32m      7\u001b[0m \u001b[38;5;28;01mfrom\u001b[39;00m\u001b[38;5;250m \u001b[39m\u001b[38;5;21;01m.\u001b[39;00m\u001b[38;5;21;01m_base\u001b[39;00m\u001b[38;5;250m \u001b[39m\u001b[38;5;28;01mimport\u001b[39;00m VALID_METRICS, VALID_METRICS_SPARSE, sort_graph_by_row_values\n\u001b[0;32m      8\u001b[0m \u001b[38;5;28;01mfrom\u001b[39;00m\u001b[38;5;250m \u001b[39m\u001b[38;5;21;01m.\u001b[39;00m\u001b[38;5;21;01m_classification\u001b[39;00m\u001b[38;5;250m \u001b[39m\u001b[38;5;28;01mimport\u001b[39;00m KNeighborsClassifier, RadiusNeighborsClassifier\n",
      "File \u001b[1;32msklearn\\\\neighbors\\\\_ball_tree.pyx:3\u001b[0m, in \u001b[0;36minit sklearn.neighbors._ball_tree\u001b[1;34m()\u001b[0m\n",
      "File \u001b[1;32mc:\\Users\\JAGANNATH\\AppData\\Local\\Programs\\Python\\Python310\\lib\\site-packages\\sklearn\\metrics\\__init__.py:6\u001b[0m\n\u001b[0;32m      1\u001b[0m \u001b[38;5;124;03m\"\"\"Score functions, performance metrics, pairwise metrics and distance computations.\"\"\"\u001b[39;00m\n\u001b[0;32m      3\u001b[0m \u001b[38;5;66;03m# Authors: The scikit-learn developers\u001b[39;00m\n\u001b[0;32m      4\u001b[0m \u001b[38;5;66;03m# SPDX-License-Identifier: BSD-3-Clause\u001b[39;00m\n\u001b[1;32m----> 6\u001b[0m \u001b[38;5;28;01mfrom\u001b[39;00m\u001b[38;5;250m \u001b[39m\u001b[38;5;21;01m.\u001b[39;00m\u001b[38;5;250m \u001b[39m\u001b[38;5;28;01mimport\u001b[39;00m cluster\n\u001b[0;32m      7\u001b[0m \u001b[38;5;28;01mfrom\u001b[39;00m\u001b[38;5;250m \u001b[39m\u001b[38;5;21;01m.\u001b[39;00m\u001b[38;5;21;01m_classification\u001b[39;00m\u001b[38;5;250m \u001b[39m\u001b[38;5;28;01mimport\u001b[39;00m (\n\u001b[0;32m      8\u001b[0m     accuracy_score,\n\u001b[0;32m      9\u001b[0m     balanced_accuracy_score,\n\u001b[1;32m   (...)\u001b[0m\n\u001b[0;32m     27\u001b[0m     zero_one_loss,\n\u001b[0;32m     28\u001b[0m )\n\u001b[0;32m     29\u001b[0m \u001b[38;5;28;01mfrom\u001b[39;00m\u001b[38;5;250m \u001b[39m\u001b[38;5;21;01m.\u001b[39;00m\u001b[38;5;21;01m_dist_metrics\u001b[39;00m\u001b[38;5;250m \u001b[39m\u001b[38;5;28;01mimport\u001b[39;00m DistanceMetric\n",
      "File \u001b[1;32mc:\\Users\\JAGANNATH\\AppData\\Local\\Programs\\Python\\Python310\\lib\\site-packages\\sklearn\\metrics\\cluster\\__init__.py:28\u001b[0m\n\u001b[0;32m     11\u001b[0m \u001b[38;5;28;01mfrom\u001b[39;00m\u001b[38;5;250m \u001b[39m\u001b[38;5;21;01m.\u001b[39;00m\u001b[38;5;21;01m_bicluster\u001b[39;00m\u001b[38;5;250m \u001b[39m\u001b[38;5;28;01mimport\u001b[39;00m consensus_score\n\u001b[0;32m     12\u001b[0m \u001b[38;5;28;01mfrom\u001b[39;00m\u001b[38;5;250m \u001b[39m\u001b[38;5;21;01m.\u001b[39;00m\u001b[38;5;21;01m_supervised\u001b[39;00m\u001b[38;5;250m \u001b[39m\u001b[38;5;28;01mimport\u001b[39;00m (\n\u001b[0;32m     13\u001b[0m     adjusted_mutual_info_score,\n\u001b[0;32m     14\u001b[0m     adjusted_rand_score,\n\u001b[1;32m   (...)\u001b[0m\n\u001b[0;32m     26\u001b[0m     v_measure_score,\n\u001b[0;32m     27\u001b[0m )\n\u001b[1;32m---> 28\u001b[0m \u001b[38;5;28;01mfrom\u001b[39;00m\u001b[38;5;250m \u001b[39m\u001b[38;5;21;01m.\u001b[39;00m\u001b[38;5;21;01m_unsupervised\u001b[39;00m\u001b[38;5;250m \u001b[39m\u001b[38;5;28;01mimport\u001b[39;00m (\n\u001b[0;32m     29\u001b[0m     calinski_harabasz_score,\n\u001b[0;32m     30\u001b[0m     davies_bouldin_score,\n\u001b[0;32m     31\u001b[0m     silhouette_samples,\n\u001b[0;32m     32\u001b[0m     silhouette_score,\n\u001b[0;32m     33\u001b[0m )\n\u001b[0;32m     35\u001b[0m __all__ \u001b[38;5;241m=\u001b[39m [\n\u001b[0;32m     36\u001b[0m     \u001b[38;5;124m\"\u001b[39m\u001b[38;5;124madjusted_mutual_info_score\u001b[39m\u001b[38;5;124m\"\u001b[39m,\n\u001b[0;32m     37\u001b[0m     \u001b[38;5;124m\"\u001b[39m\u001b[38;5;124mnormalized_mutual_info_score\u001b[39m\u001b[38;5;124m\"\u001b[39m,\n\u001b[1;32m   (...)\u001b[0m\n\u001b[0;32m     54\u001b[0m     \u001b[38;5;124m\"\u001b[39m\u001b[38;5;124mconsensus_score\u001b[39m\u001b[38;5;124m\"\u001b[39m,\n\u001b[0;32m     55\u001b[0m ]\n",
      "File \u001b[1;32mc:\\Users\\JAGANNATH\\AppData\\Local\\Programs\\Python\\Python310\\lib\\site-packages\\sklearn\\metrics\\cluster\\_unsupervised.py:21\u001b[0m\n\u001b[0;32m     15\u001b[0m \u001b[38;5;28;01mfrom\u001b[39;00m\u001b[38;5;250m \u001b[39m\u001b[38;5;21;01m.\u001b[39;00m\u001b[38;5;21;01m.\u001b[39;00m\u001b[38;5;21;01m.\u001b[39;00m\u001b[38;5;21;01mutils\u001b[39;00m\u001b[38;5;21;01m.\u001b[39;00m\u001b[38;5;21;01m_array_api\u001b[39;00m\u001b[38;5;250m \u001b[39m\u001b[38;5;28;01mimport\u001b[39;00m _atol_for_type\n\u001b[0;32m     16\u001b[0m \u001b[38;5;28;01mfrom\u001b[39;00m\u001b[38;5;250m \u001b[39m\u001b[38;5;21;01m.\u001b[39;00m\u001b[38;5;21;01m.\u001b[39;00m\u001b[38;5;21;01m.\u001b[39;00m\u001b[38;5;21;01mutils\u001b[39;00m\u001b[38;5;21;01m.\u001b[39;00m\u001b[38;5;21;01m_param_validation\u001b[39;00m\u001b[38;5;250m \u001b[39m\u001b[38;5;28;01mimport\u001b[39;00m (\n\u001b[0;32m     17\u001b[0m     Interval,\n\u001b[0;32m     18\u001b[0m     StrOptions,\n\u001b[0;32m     19\u001b[0m     validate_params,\n\u001b[0;32m     20\u001b[0m )\n\u001b[1;32m---> 21\u001b[0m \u001b[38;5;28;01mfrom\u001b[39;00m\u001b[38;5;250m \u001b[39m\u001b[38;5;21;01m.\u001b[39;00m\u001b[38;5;21;01m.\u001b[39;00m\u001b[38;5;21;01mpairwise\u001b[39;00m\u001b[38;5;250m \u001b[39m\u001b[38;5;28;01mimport\u001b[39;00m _VALID_METRICS, pairwise_distances, pairwise_distances_chunked\n\u001b[0;32m     24\u001b[0m \u001b[38;5;28;01mdef\u001b[39;00m\u001b[38;5;250m \u001b[39m\u001b[38;5;21mcheck_number_of_labels\u001b[39m(n_labels, n_samples):\n\u001b[0;32m     25\u001b[0m \u001b[38;5;250m    \u001b[39m\u001b[38;5;124;03m\"\"\"Check that number of labels are valid.\u001b[39;00m\n\u001b[0;32m     26\u001b[0m \n\u001b[0;32m     27\u001b[0m \u001b[38;5;124;03m    Parameters\u001b[39;00m\n\u001b[1;32m   (...)\u001b[0m\n\u001b[0;32m     33\u001b[0m \u001b[38;5;124;03m        Number of samples.\u001b[39;00m\n\u001b[0;32m     34\u001b[0m \u001b[38;5;124;03m    \"\"\"\u001b[39;00m\n",
      "File \u001b[1;32mc:\\Users\\JAGANNATH\\AppData\\Local\\Programs\\Python\\Python310\\lib\\site-packages\\sklearn\\metrics\\pairwise.py:46\u001b[0m\n\u001b[0;32m     44\u001b[0m \u001b[38;5;28;01mfrom\u001b[39;00m\u001b[38;5;250m \u001b[39m\u001b[38;5;21;01m.\u001b[39;00m\u001b[38;5;21;01m.\u001b[39;00m\u001b[38;5;21;01mutils\u001b[39;00m\u001b[38;5;21;01m.\u001b[39;00m\u001b[38;5;21;01mparallel\u001b[39;00m\u001b[38;5;250m \u001b[39m\u001b[38;5;28;01mimport\u001b[39;00m Parallel, delayed\n\u001b[0;32m     45\u001b[0m \u001b[38;5;28;01mfrom\u001b[39;00m\u001b[38;5;250m \u001b[39m\u001b[38;5;21;01m.\u001b[39;00m\u001b[38;5;21;01m.\u001b[39;00m\u001b[38;5;21;01mutils\u001b[39;00m\u001b[38;5;21;01m.\u001b[39;00m\u001b[38;5;21;01mvalidation\u001b[39;00m\u001b[38;5;250m \u001b[39m\u001b[38;5;28;01mimport\u001b[39;00m _num_samples, check_non_negative\n\u001b[1;32m---> 46\u001b[0m \u001b[38;5;28;01mfrom\u001b[39;00m\u001b[38;5;250m \u001b[39m\u001b[38;5;21;01m.\u001b[39;00m\u001b[38;5;21;01m_pairwise_distances_reduction\u001b[39;00m\u001b[38;5;250m \u001b[39m\u001b[38;5;28;01mimport\u001b[39;00m ArgKmin\n\u001b[0;32m     47\u001b[0m \u001b[38;5;28;01mfrom\u001b[39;00m\u001b[38;5;250m \u001b[39m\u001b[38;5;21;01m.\u001b[39;00m\u001b[38;5;21;01m_pairwise_fast\u001b[39;00m\u001b[38;5;250m \u001b[39m\u001b[38;5;28;01mimport\u001b[39;00m _chi2_kernel_fast, _sparse_manhattan\n\u001b[0;32m     50\u001b[0m \u001b[38;5;66;03m# Utility Functions\u001b[39;00m\n",
      "File \u001b[1;32mc:\\Users\\JAGANNATH\\AppData\\Local\\Programs\\Python\\Python310\\lib\\site-packages\\sklearn\\metrics\\_pairwise_distances_reduction\\__init__.py:97\u001b[0m\n\u001b[0;32m      1\u001b[0m \u001b[38;5;66;03m# Authors: The scikit-learn developers\u001b[39;00m\n\u001b[0;32m      2\u001b[0m \u001b[38;5;66;03m# SPDX-License-Identifier: BSD-3-Clause\u001b[39;00m\n\u001b[0;32m      3\u001b[0m \n\u001b[1;32m   (...)\u001b[0m\n\u001b[0;32m     94\u001b[0m \u001b[38;5;66;03m#    (see :class:`MiddleTermComputer{32,64}`).\u001b[39;00m\n\u001b[0;32m     95\u001b[0m \u001b[38;5;66;03m#\u001b[39;00m\n\u001b[1;32m---> 97\u001b[0m \u001b[38;5;28;01mfrom\u001b[39;00m\u001b[38;5;250m \u001b[39m\u001b[38;5;21;01m.\u001b[39;00m\u001b[38;5;21;01m_dispatcher\u001b[39;00m\u001b[38;5;250m \u001b[39m\u001b[38;5;28;01mimport\u001b[39;00m (\n\u001b[0;32m     98\u001b[0m     ArgKmin,\n\u001b[0;32m     99\u001b[0m     ArgKminClassMode,\n\u001b[0;32m    100\u001b[0m     BaseDistancesReductionDispatcher,\n\u001b[0;32m    101\u001b[0m     RadiusNeighbors,\n\u001b[0;32m    102\u001b[0m     RadiusNeighborsClassMode,\n\u001b[0;32m    103\u001b[0m     sqeuclidean_row_norms,\n\u001b[0;32m    104\u001b[0m )\n\u001b[0;32m    106\u001b[0m __all__ \u001b[38;5;241m=\u001b[39m [\n\u001b[0;32m    107\u001b[0m     \u001b[38;5;124m\"\u001b[39m\u001b[38;5;124mBaseDistancesReductionDispatcher\u001b[39m\u001b[38;5;124m\"\u001b[39m,\n\u001b[0;32m    108\u001b[0m     \u001b[38;5;124m\"\u001b[39m\u001b[38;5;124mArgKmin\u001b[39m\u001b[38;5;124m\"\u001b[39m,\n\u001b[1;32m   (...)\u001b[0m\n\u001b[0;32m    112\u001b[0m     \u001b[38;5;124m\"\u001b[39m\u001b[38;5;124msqeuclidean_row_norms\u001b[39m\u001b[38;5;124m\"\u001b[39m,\n\u001b[0;32m    113\u001b[0m ]\n\u001b[0;32m    115\u001b[0m \u001b[38;5;66;03m# ruff: noqa: E501\u001b[39;00m\n",
      "File \u001b[1;32mc:\\Users\\JAGANNATH\\AppData\\Local\\Programs\\Python\\Python310\\lib\\site-packages\\sklearn\\metrics\\_pairwise_distances_reduction\\_dispatcher.py:11\u001b[0m\n\u001b[0;32m      8\u001b[0m \u001b[38;5;28;01mfrom\u001b[39;00m\u001b[38;5;250m \u001b[39m\u001b[38;5;21;01mscipy\u001b[39;00m\u001b[38;5;21;01m.\u001b[39;00m\u001b[38;5;21;01msparse\u001b[39;00m\u001b[38;5;250m \u001b[39m\u001b[38;5;28;01mimport\u001b[39;00m issparse\n\u001b[0;32m     10\u001b[0m \u001b[38;5;28;01mfrom\u001b[39;00m\u001b[38;5;250m \u001b[39m\u001b[38;5;21;01m.\u001b[39;00m\u001b[38;5;21;01m.\u001b[39;00m\u001b[38;5;21;01m.\u001b[39;00m\u001b[38;5;250m \u001b[39m\u001b[38;5;28;01mimport\u001b[39;00m get_config\n\u001b[1;32m---> 11\u001b[0m \u001b[38;5;28;01mfrom\u001b[39;00m\u001b[38;5;250m \u001b[39m\u001b[38;5;21;01m.\u001b[39;00m\u001b[38;5;21;01m.\u001b[39;00m\u001b[38;5;21;01m_dist_metrics\u001b[39;00m\u001b[38;5;250m \u001b[39m\u001b[38;5;28;01mimport\u001b[39;00m (\n\u001b[0;32m     12\u001b[0m     BOOL_METRICS,\n\u001b[0;32m     13\u001b[0m     METRIC_MAPPING64,\n\u001b[0;32m     14\u001b[0m     DistanceMetric,\n\u001b[0;32m     15\u001b[0m )\n\u001b[0;32m     16\u001b[0m \u001b[38;5;28;01mfrom\u001b[39;00m\u001b[38;5;250m \u001b[39m\u001b[38;5;21;01m.\u001b[39;00m\u001b[38;5;21;01m_argkmin\u001b[39;00m\u001b[38;5;250m \u001b[39m\u001b[38;5;28;01mimport\u001b[39;00m (\n\u001b[0;32m     17\u001b[0m     ArgKmin32,\n\u001b[0;32m     18\u001b[0m     ArgKmin64,\n\u001b[0;32m     19\u001b[0m )\n\u001b[0;32m     20\u001b[0m \u001b[38;5;28;01mfrom\u001b[39;00m\u001b[38;5;250m \u001b[39m\u001b[38;5;21;01m.\u001b[39;00m\u001b[38;5;21;01m_argkmin_classmode\u001b[39;00m\u001b[38;5;250m \u001b[39m\u001b[38;5;28;01mimport\u001b[39;00m (\n\u001b[0;32m     21\u001b[0m     ArgKminClassMode32,\n\u001b[0;32m     22\u001b[0m     ArgKminClassMode64,\n\u001b[0;32m     23\u001b[0m )\n",
      "File \u001b[1;32msklearn\\\\metrics\\\\_dist_metrics.pyx:8\u001b[0m, in \u001b[0;36minit sklearn.metrics._dist_metrics\u001b[1;34m()\u001b[0m\n",
      "File \u001b[1;32m__init__.cython-30.pxd:1043\u001b[0m, in \u001b[0;36mnumpy.import_array\u001b[1;34m()\u001b[0m\n",
      "\u001b[1;31mImportError\u001b[0m: numpy._core.multiarray failed to import"
     ]
    }
   ],
   "source": [
    "from imblearn.over_sampling import RandomOverSampler\n",
    "ro=RandomOverSampler()\n",
    "x_data,y_data=ro.fit_resample(x,y)"
   ]
  },
  {
   "cell_type": "code",
   "execution_count": 57,
   "metadata": {
    "execution": {
     "iopub.execute_input": "2023-11-14T12:17:14.100827Z",
     "iopub.status.busy": "2023-11-14T12:17:14.100256Z",
     "iopub.status.idle": "2023-11-14T12:17:15.614950Z",
     "shell.execute_reply": "2023-11-14T12:17:15.613658Z",
     "shell.execute_reply.started": "2023-11-14T12:17:14.100797Z"
    },
    "trusted": true
   },
   "outputs": [
    {
     "name": "stdout",
     "output_type": "stream",
     "text": [
      "Actual Data: Counter({'Larceny Offenses': 189879, 'Vandalism': 61014, 'Motor Vehicle Theft': 59104, 'Burglary': 37363, 'Assault Offenses': 35473, 'Fraud Offenses': 27572, 'Drug/Narcotic Offenses': 9747, 'Robbery': 8330, 'Weapon Law Violations': 5053, 'Counterfeiting/Forgery': 4541, 'Arson': 2576, 'Prostitution Offenses': 1013, 'Embezzlement': 791, 'Stolen Property Offenses': 654, 'Pornography/Obscene Material': 275, 'Animal Cruelty Offenses': 215, 'Extortion/Blackmail': 173, 'Homicide Offenses': 25, 'Bribery': 14, 'Gambling Offenses': 1})\n"
     ]
    }
   ],
   "source": [
    "from collections import Counter\n",
    "print(\"Actual Data:\",Counter(y))"
   ]
  },
  {
   "cell_type": "code",
   "execution_count": 58,
   "metadata": {
    "execution": {
     "iopub.execute_input": "2023-11-14T12:17:15.617552Z",
     "iopub.status.busy": "2023-11-14T12:17:15.616548Z",
     "iopub.status.idle": "2023-11-14T12:17:26.642794Z",
     "shell.execute_reply": "2023-11-14T12:17:26.641105Z",
     "shell.execute_reply.started": "2023-11-14T12:17:15.617516Z"
    },
    "trusted": true
   },
   "outputs": [
    {
     "ename": "NameError",
     "evalue": "name 'y_data' is not defined",
     "output_type": "error",
     "traceback": [
      "\u001b[1;31m---------------------------------------------------------------------------\u001b[0m",
      "\u001b[1;31mNameError\u001b[0m                                 Traceback (most recent call last)",
      "Cell \u001b[1;32mIn[58], line 1\u001b[0m\n\u001b[1;32m----> 1\u001b[0m \u001b[38;5;28mprint\u001b[39m(\u001b[38;5;124m\"\u001b[39m\u001b[38;5;124mArtificial Data:\u001b[39m\u001b[38;5;124m\"\u001b[39m,Counter(\u001b[43my_data\u001b[49m))\n",
      "\u001b[1;31mNameError\u001b[0m: name 'y_data' is not defined"
     ]
    }
   ],
   "source": [
    "print(\"Artificial Data:\",Counter(y_data))"
   ]
  },
  {
   "cell_type": "code",
   "execution_count": 59,
   "metadata": {
    "execution": {
     "iopub.execute_input": "2023-11-14T12:23:50.417854Z",
     "iopub.status.busy": "2023-11-14T12:23:50.417380Z",
     "iopub.status.idle": "2023-11-14T12:23:50.424072Z",
     "shell.execute_reply": "2023-11-14T12:23:50.422744Z",
     "shell.execute_reply.started": "2023-11-14T12:23:50.417821Z"
    },
    "trusted": true
   },
   "outputs": [],
   "source": [
    "from sklearn.model_selection import train_test_split"
   ]
  },
  {
   "cell_type": "code",
   "execution_count": 60,
   "metadata": {
    "execution": {
     "iopub.execute_input": "2023-11-14T12:23:54.757563Z",
     "iopub.status.busy": "2023-11-14T12:23:54.757113Z",
     "iopub.status.idle": "2023-11-14T12:24:40.488717Z",
     "shell.execute_reply": "2023-11-14T12:24:40.487572Z",
     "shell.execute_reply.started": "2023-11-14T12:23:54.757526Z"
    },
    "trusted": true
   },
   "outputs": [
    {
     "ename": "NameError",
     "evalue": "name 'x_data' is not defined",
     "output_type": "error",
     "traceback": [
      "\u001b[1;31m---------------------------------------------------------------------------\u001b[0m",
      "\u001b[1;31mNameError\u001b[0m                                 Traceback (most recent call last)",
      "Cell \u001b[1;32mIn[60], line 1\u001b[0m\n\u001b[1;32m----> 1\u001b[0m X_train, X_test, y_train, y_test \u001b[38;5;241m=\u001b[39m train_test_split(\u001b[43mx_data\u001b[49m, y_data, test_size \u001b[38;5;241m=\u001b[39m \u001b[38;5;241m0.2\u001b[39m, random_state \u001b[38;5;241m=\u001b[39m \u001b[38;5;241m42\u001b[39m)\n",
      "\u001b[1;31mNameError\u001b[0m: name 'x_data' is not defined"
     ]
    }
   ],
   "source": [
    "X_train, X_test, y_train, y_test = train_test_split(x_data, y_data, test_size = 0.2, random_state = 42)"
   ]
  },
  {
   "cell_type": "code",
   "execution_count": 61,
   "metadata": {
    "execution": {
     "iopub.execute_input": "2023-11-14T12:25:51.043793Z",
     "iopub.status.busy": "2023-11-14T12:25:51.043310Z",
     "iopub.status.idle": "2023-11-14T12:25:51.049786Z",
     "shell.execute_reply": "2023-11-14T12:25:51.048501Z",
     "shell.execute_reply.started": "2023-11-14T12:25:51.043753Z"
    },
    "trusted": true
   },
   "outputs": [],
   "source": [
    "# from sklearn.ensemble import RandomForestClassifier\n",
    "\n",
    "\n",
    "\n",
    "# # instantiate the classifier \n",
    "\n",
    "# rfc = RandomForestClassifier(random_state=5)"
   ]
  },
  {
   "cell_type": "code",
   "execution_count": 62,
   "metadata": {
    "trusted": true
   },
   "outputs": [],
   "source": [
    "# rfc.fit(X_train,y_train)"
   ]
  },
  {
   "cell_type": "code",
   "execution_count": 63,
   "metadata": {
    "trusted": true
   },
   "outputs": [],
   "source": [
    "# rfc.score(X_train, y_train)  "
   ]
  },
  {
   "cell_type": "code",
   "execution_count": 64,
   "metadata": {},
   "outputs": [],
   "source": [
    "# from sklearn.metrics import accuracy_score\n",
    "# y_pred = rfc.predict(X_test )\n",
    "# accuracy_score(y_pred,y_test)"
   ]
  },
  {
   "cell_type": "code",
   "execution_count": 65,
   "metadata": {},
   "outputs": [],
   "source": [
    "\n",
    "# import sklearn.metrics"
   ]
  },
  {
   "cell_type": "code",
   "execution_count": 66,
   "metadata": {},
   "outputs": [],
   "source": [
    "# print(sklearn.metrics.classification_report(y_test, y_pred))"
   ]
  },
  {
   "cell_type": "code",
   "execution_count": 67,
   "metadata": {},
   "outputs": [],
   "source": [
    "import pickle"
   ]
  },
  {
   "cell_type": "code",
   "execution_count": 68,
   "metadata": {},
   "outputs": [],
   "source": [
    "# DecisionTreeClassifier"
   ]
  },
  {
   "cell_type": "code",
   "execution_count": 69,
   "metadata": {},
   "outputs": [],
   "source": [
    "from sklearn import tree"
   ]
  },
  {
   "cell_type": "code",
   "execution_count": 70,
   "metadata": {},
   "outputs": [
    {
     "ename": "NameError",
     "evalue": "name 'X_train' is not defined",
     "output_type": "error",
     "traceback": [
      "\u001b[1;31m---------------------------------------------------------------------------\u001b[0m",
      "\u001b[1;31mNameError\u001b[0m                                 Traceback (most recent call last)",
      "Cell \u001b[1;32mIn[70], line 3\u001b[0m\n\u001b[0;32m      1\u001b[0m \u001b[38;5;66;03m# fit model no training data\u001b[39;00m\n\u001b[0;32m      2\u001b[0m dt \u001b[38;5;241m=\u001b[39m tree\u001b[38;5;241m.\u001b[39mDecisionTreeClassifier()\n\u001b[1;32m----> 3\u001b[0m dt\u001b[38;5;241m.\u001b[39mfit(\u001b[43mX_train\u001b[49m,y_train)\n",
      "\u001b[1;31mNameError\u001b[0m: name 'X_train' is not defined"
     ]
    }
   ],
   "source": [
    "\n",
    "# fit model no training data\n",
    "dt = tree.DecisionTreeClassifier()\n",
    "dt.fit(X_train,y_train)\n"
   ]
  },
  {
   "cell_type": "code",
   "execution_count": 61,
   "metadata": {},
   "outputs": [
    {
     "data": {
      "text/plain": [
       "0.9874992758546232"
      ]
     },
     "execution_count": 61,
     "metadata": {},
     "output_type": "execute_result"
    }
   ],
   "source": [
    "dt.score(X_train, y_train)"
   ]
  },
  {
   "cell_type": "code",
   "execution_count": 62,
   "metadata": {},
   "outputs": [
    {
     "data": {
      "text/plain": [
       "0.9549199753527247"
      ]
     },
     "execution_count": 62,
     "metadata": {},
     "output_type": "execute_result"
    }
   ],
   "source": [
    "from sklearn.metrics import accuracy_score\n",
    "y_pred = dt.predict(X_test)\n",
    "accuracy_score(y_pred,y_test)"
   ]
  },
  {
   "cell_type": "code",
   "execution_count": 63,
   "metadata": {},
   "outputs": [],
   "source": [
    "import pickle"
   ]
  },
  {
   "cell_type": "code",
   "execution_count": 64,
   "metadata": {},
   "outputs": [],
   "source": [
    "pickle.dump(dt, open('Decision.pkl', 'wb'))\n"
   ]
  },
  {
   "cell_type": "code",
   "execution_count": 65,
   "metadata": {},
   "outputs": [],
   "source": [
    "decision = pickle.load( open('Decision.pkl', 'rb') )"
   ]
  },
  {
   "cell_type": "code",
   "execution_count": 70,
   "metadata": {},
   "outputs": [
    {
     "data": {
      "text/html": [
       "<style>#sk-container-id-2 {color: black;background-color: white;}#sk-container-id-2 pre{padding: 0;}#sk-container-id-2 div.sk-toggleable {background-color: white;}#sk-container-id-2 label.sk-toggleable__label {cursor: pointer;display: block;width: 100%;margin-bottom: 0;padding: 0.3em;box-sizing: border-box;text-align: center;}#sk-container-id-2 label.sk-toggleable__label-arrow:before {content: \"▸\";float: left;margin-right: 0.25em;color: #696969;}#sk-container-id-2 label.sk-toggleable__label-arrow:hover:before {color: black;}#sk-container-id-2 div.sk-estimator:hover label.sk-toggleable__label-arrow:before {color: black;}#sk-container-id-2 div.sk-toggleable__content {max-height: 0;max-width: 0;overflow: hidden;text-align: left;background-color: #f0f8ff;}#sk-container-id-2 div.sk-toggleable__content pre {margin: 0.2em;color: black;border-radius: 0.25em;background-color: #f0f8ff;}#sk-container-id-2 input.sk-toggleable__control:checked~div.sk-toggleable__content {max-height: 200px;max-width: 100%;overflow: auto;}#sk-container-id-2 input.sk-toggleable__control:checked~label.sk-toggleable__label-arrow:before {content: \"▾\";}#sk-container-id-2 div.sk-estimator input.sk-toggleable__control:checked~label.sk-toggleable__label {background-color: #d4ebff;}#sk-container-id-2 div.sk-label input.sk-toggleable__control:checked~label.sk-toggleable__label {background-color: #d4ebff;}#sk-container-id-2 input.sk-hidden--visually {border: 0;clip: rect(1px 1px 1px 1px);clip: rect(1px, 1px, 1px, 1px);height: 1px;margin: -1px;overflow: hidden;padding: 0;position: absolute;width: 1px;}#sk-container-id-2 div.sk-estimator {font-family: monospace;background-color: #f0f8ff;border: 1px dotted black;border-radius: 0.25em;box-sizing: border-box;margin-bottom: 0.5em;}#sk-container-id-2 div.sk-estimator:hover {background-color: #d4ebff;}#sk-container-id-2 div.sk-parallel-item::after {content: \"\";width: 100%;border-bottom: 1px solid gray;flex-grow: 1;}#sk-container-id-2 div.sk-label:hover label.sk-toggleable__label {background-color: #d4ebff;}#sk-container-id-2 div.sk-serial::before {content: \"\";position: absolute;border-left: 1px solid gray;box-sizing: border-box;top: 0;bottom: 0;left: 50%;z-index: 0;}#sk-container-id-2 div.sk-serial {display: flex;flex-direction: column;align-items: center;background-color: white;padding-right: 0.2em;padding-left: 0.2em;position: relative;}#sk-container-id-2 div.sk-item {position: relative;z-index: 1;}#sk-container-id-2 div.sk-parallel {display: flex;align-items: stretch;justify-content: center;background-color: white;position: relative;}#sk-container-id-2 div.sk-item::before, #sk-container-id-2 div.sk-parallel-item::before {content: \"\";position: absolute;border-left: 1px solid gray;box-sizing: border-box;top: 0;bottom: 0;left: 50%;z-index: -1;}#sk-container-id-2 div.sk-parallel-item {display: flex;flex-direction: column;z-index: 1;position: relative;background-color: white;}#sk-container-id-2 div.sk-parallel-item:first-child::after {align-self: flex-end;width: 50%;}#sk-container-id-2 div.sk-parallel-item:last-child::after {align-self: flex-start;width: 50%;}#sk-container-id-2 div.sk-parallel-item:only-child::after {width: 0;}#sk-container-id-2 div.sk-dashed-wrapped {border: 1px dashed gray;margin: 0 0.4em 0.5em 0.4em;box-sizing: border-box;padding-bottom: 0.4em;background-color: white;}#sk-container-id-2 div.sk-label label {font-family: monospace;font-weight: bold;display: inline-block;line-height: 1.2em;}#sk-container-id-2 div.sk-label-container {text-align: center;}#sk-container-id-2 div.sk-container {/* jupyter's `normalize.less` sets `[hidden] { display: none; }` but bootstrap.min.css set `[hidden] { display: none !important; }` so we also need the `!important` here to be able to override the default hidden behavior on the sphinx rendered scikit-learn.org. See: https://github.com/scikit-learn/scikit-learn/issues/21755 */display: inline-block !important;position: relative;}#sk-container-id-2 div.sk-text-repr-fallback {display: none;}</style><div id=\"sk-container-id-2\" class=\"sk-top-container\"><div class=\"sk-text-repr-fallback\"><pre>BaggingClassifier()</pre><b>In a Jupyter environment, please rerun this cell to show the HTML representation or trust the notebook. <br />On GitHub, the HTML representation is unable to render, please try loading this page with nbviewer.org.</b></div><div class=\"sk-container\" hidden><div class=\"sk-item\"><div class=\"sk-estimator sk-toggleable\"><input class=\"sk-toggleable__control sk-hidden--visually\" id=\"sk-estimator-id-2\" type=\"checkbox\" checked><label for=\"sk-estimator-id-2\" class=\"sk-toggleable__label sk-toggleable__label-arrow\">BaggingClassifier</label><div class=\"sk-toggleable__content\"><pre>BaggingClassifier()</pre></div></div></div></div></div>"
      ],
      "text/plain": [
       "BaggingClassifier()"
      ]
     },
     "execution_count": 70,
     "metadata": {},
     "output_type": "execute_result"
    }
   ],
   "source": [
    "from sklearn.ensemble import BaggingClassifier\n",
    "Bagging=BaggingClassifier()\n",
    "Bagging.fit(X_train,y_train)\n",
    "# y_pred=Bagging.predict(X_test)"
   ]
  },
  {
   "cell_type": "code",
   "execution_count": 71,
   "metadata": {},
   "outputs": [
    {
     "data": {
      "text/plain": [
       "0.9865796112260966"
      ]
     },
     "execution_count": 71,
     "metadata": {},
     "output_type": "execute_result"
    }
   ],
   "source": [
    "Bagging.score(X_train,y_train)"
   ]
  },
  {
   "cell_type": "code",
   "execution_count": 72,
   "metadata": {},
   "outputs": [
    {
     "data": {
      "text/plain": [
       "0.9561826215642594"
      ]
     },
     "execution_count": 72,
     "metadata": {},
     "output_type": "execute_result"
    }
   ],
   "source": [
    "from sklearn.metrics import accuracy_score\n",
    "y_pred = Bagging.predict(X_test)\n",
    "accuracy_score(y_pred,y_test)"
   ]
  },
  {
   "cell_type": "code",
   "execution_count": 73,
   "metadata": {},
   "outputs": [],
   "source": [
    "pickle.dump(Bagging, open('Bagging.pkl', 'wb'))\n"
   ]
  },
  {
   "cell_type": "code",
   "execution_count": 74,
   "metadata": {},
   "outputs": [],
   "source": [
    "Bagging = pickle.load( open('Bagging.pkl', 'rb') )"
   ]
  },
  {
   "cell_type": "code",
   "execution_count": null,
   "metadata": {},
   "outputs": [],
   "source": []
  }
 ],
 "metadata": {
  "kernelspec": {
   "display_name": "Python 3",
   "language": "python",
   "name": "python3"
  },
  "language_info": {
   "codemirror_mode": {
    "name": "ipython",
    "version": 3
   },
   "file_extension": ".py",
   "mimetype": "text/x-python",
   "name": "python",
   "nbconvert_exporter": "python",
   "pygments_lexer": "ipython3",
   "version": "3.10.9"
  }
 },
 "nbformat": 4,
 "nbformat_minor": 5
}
